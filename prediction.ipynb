{
 "cells": [
  {
   "cell_type": "markdown",
   "metadata": {},
   "source": [
    "## Importing the important libraries"
   ]
  },
  {
   "cell_type": "code",
   "execution_count": 44,
   "metadata": {},
   "outputs": [],
   "source": [
    "import pandas as pd\n",
    "import numpy as np\n",
    "\n",
    "import matplotlib.pyplot as plt\n",
    "import seaborn as sns\n",
    "import plotly.graph_objects as go\n",
    "import plotly.express as px\n",
    "colors = ['#235E72']\n",
    "\n",
    "from sklearn.model_selection import train_test_split, cross_val_score\n",
    "from sklearn.linear_model import LinearRegression\n",
    "from sklearn.ensemble import RandomForestRegressor\n",
    "\n",
    "from sklearn.metrics import accuracy_score, mean_absolute_error, mean_squared_error, r2_score\n",
    "\n",
    "import warnings\n",
    "warnings.filterwarnings('ignore')"
   ]
  },
  {
   "cell_type": "code",
   "execution_count": 45,
   "metadata": {},
   "outputs": [
    {
     "data": {
      "text/html": [
       "<div>\n",
       "<style scoped>\n",
       "    .dataframe tbody tr th:only-of-type {\n",
       "        vertical-align: middle;\n",
       "    }\n",
       "\n",
       "    .dataframe tbody tr th {\n",
       "        vertical-align: top;\n",
       "    }\n",
       "\n",
       "    .dataframe thead th {\n",
       "        text-align: right;\n",
       "    }\n",
       "</style>\n",
       "<table border=\"1\" class=\"dataframe\">\n",
       "  <thead>\n",
       "    <tr style=\"text-align: right;\">\n",
       "      <th></th>\n",
       "      <th>Movie Name</th>\n",
       "      <th>IMDb Rating</th>\n",
       "      <th>Popularity</th>\n",
       "      <th>Release Date</th>\n",
       "      <th>Box Office</th>\n",
       "      <th>Runtime</th>\n",
       "      <th>Genre</th>\n",
       "      <th>Director</th>\n",
       "      <th>Cast</th>\n",
       "      <th>Production Company</th>\n",
       "      <th>Country</th>\n",
       "      <th>Language</th>\n",
       "    </tr>\n",
       "  </thead>\n",
       "  <tbody>\n",
       "    <tr>\n",
       "      <th>0</th>\n",
       "      <td>The Kerala Story Bangla</td>\n",
       "      <td>6.5</td>\n",
       "      <td>NaN</td>\n",
       "      <td>NaN</td>\n",
       "      <td>NaN</td>\n",
       "      <td>12 minutes</td>\n",
       "      <td>['Short', 'Drama']</td>\n",
       "      <td>['Satyajit Das']</td>\n",
       "      <td>[]</td>\n",
       "      <td>[]</td>\n",
       "      <td>NaN</td>\n",
       "      <td>['Bengali']</td>\n",
       "    </tr>\n",
       "    <tr>\n",
       "      <th>1</th>\n",
       "      <td>Generation Z</td>\n",
       "      <td>NaN</td>\n",
       "      <td>NaN</td>\n",
       "      <td>NaN</td>\n",
       "      <td>NaN</td>\n",
       "      <td>NaN</td>\n",
       "      <td>['Horror', 'Comedy']</td>\n",
       "      <td>[]</td>\n",
       "      <td>['Chris Reilly', 'Ellora Torchia', 'Viola Pret...</td>\n",
       "      <td>['All3Media International', 'The Forge', 'Zwei...</td>\n",
       "      <td>NaN</td>\n",
       "      <td>[]</td>\n",
       "    </tr>\n",
       "    <tr>\n",
       "      <th>2</th>\n",
       "      <td>Criminal Justice: Adhura Sach</td>\n",
       "      <td>7.7</td>\n",
       "      <td>NaN</td>\n",
       "      <td>August 26, 2022 (India)</td>\n",
       "      <td>NaN</td>\n",
       "      <td>45 minutes</td>\n",
       "      <td>['Crime', 'Drama', 'Mystery']</td>\n",
       "      <td>[]</td>\n",
       "      <td>['Pankaj Tripathi', 'Swastika Mukherjee', 'Pur...</td>\n",
       "      <td>['Applause Entertainment Ltd.', 'BBC Studios']</td>\n",
       "      <td>India</td>\n",
       "      <td>['Hindi']</td>\n",
       "    </tr>\n",
       "    <tr>\n",
       "      <th>3</th>\n",
       "      <td>Madhil Mel Kaadhal</td>\n",
       "      <td>NaN</td>\n",
       "      <td>NaN</td>\n",
       "      <td>NaN</td>\n",
       "      <td>NaN</td>\n",
       "      <td>NaN</td>\n",
       "      <td>['Romance']</td>\n",
       "      <td>['Anjana Ali Khan']</td>\n",
       "      <td>['Mugen Rao', 'Divya Bharathi', 'Sakshi Agarwal']</td>\n",
       "      <td>[]</td>\n",
       "      <td>NaN</td>\n",
       "      <td>['Tamil']</td>\n",
       "    </tr>\n",
       "    <tr>\n",
       "      <th>4</th>\n",
       "      <td>Saawariya</td>\n",
       "      <td>5.2</td>\n",
       "      <td>NaN</td>\n",
       "      <td>November 9, 2007 (India)</td>\n",
       "      <td>$18,525,631</td>\n",
       "      <td>2 hours 22 minutes</td>\n",
       "      <td>['Drama', 'Musical', 'Romance']</td>\n",
       "      <td>['Sanjay Leela Bhansali']</td>\n",
       "      <td>['Ranbir Kapoor', 'Sonam Kapoor', 'Salman Khan']</td>\n",
       "      <td>['SPE Films', 'SLB Films Pvt. Ltd.']</td>\n",
       "      <td>NaN</td>\n",
       "      <td>['Hindi']</td>\n",
       "    </tr>\n",
       "  </tbody>\n",
       "</table>\n",
       "</div>"
      ],
      "text/plain": [
       "                      Movie Name  IMDb Rating Popularity  \\\n",
       "0        The Kerala Story Bangla          6.5        NaN   \n",
       "1                   Generation Z          NaN        NaN   \n",
       "2  Criminal Justice: Adhura Sach          7.7        NaN   \n",
       "3             Madhil Mel Kaadhal          NaN        NaN   \n",
       "4                      Saawariya          5.2        NaN   \n",
       "\n",
       "               Release Date   Box Office             Runtime  \\\n",
       "0                       NaN          NaN          12 minutes   \n",
       "1                       NaN          NaN                 NaN   \n",
       "2   August 26, 2022 (India)          NaN          45 minutes   \n",
       "3                       NaN          NaN                 NaN   \n",
       "4  November 9, 2007 (India)  $18,525,631  2 hours 22 minutes   \n",
       "\n",
       "                             Genre                   Director  \\\n",
       "0               ['Short', 'Drama']           ['Satyajit Das']   \n",
       "1             ['Horror', 'Comedy']                         []   \n",
       "2    ['Crime', 'Drama', 'Mystery']                         []   \n",
       "3                      ['Romance']        ['Anjana Ali Khan']   \n",
       "4  ['Drama', 'Musical', 'Romance']  ['Sanjay Leela Bhansali']   \n",
       "\n",
       "                                                Cast  \\\n",
       "0                                                 []   \n",
       "1  ['Chris Reilly', 'Ellora Torchia', 'Viola Pret...   \n",
       "2  ['Pankaj Tripathi', 'Swastika Mukherjee', 'Pur...   \n",
       "3  ['Mugen Rao', 'Divya Bharathi', 'Sakshi Agarwal']   \n",
       "4   ['Ranbir Kapoor', 'Sonam Kapoor', 'Salman Khan']   \n",
       "\n",
       "                                  Production Company Country     Language  \n",
       "0                                                 []     NaN  ['Bengali']  \n",
       "1  ['All3Media International', 'The Forge', 'Zwei...     NaN           []  \n",
       "2     ['Applause Entertainment Ltd.', 'BBC Studios']   India    ['Hindi']  \n",
       "3                                                 []     NaN    ['Tamil']  \n",
       "4               ['SPE Films', 'SLB Films Pvt. Ltd.']     NaN    ['Hindi']  "
      ]
     },
     "execution_count": 45,
     "metadata": {},
     "output_type": "execute_result"
    }
   ],
   "source": [
    "df = pd.read_csv('data/data.csv')\n",
    "df.head()"
   ]
  },
  {
   "cell_type": "code",
   "execution_count": 46,
   "metadata": {},
   "outputs": [
    {
     "name": "stdout",
     "output_type": "stream",
     "text": [
      "<class 'pandas.core.frame.DataFrame'>\n",
      "RangeIndex: 10004 entries, 0 to 10003\n",
      "Data columns (total 12 columns):\n",
      " #   Column              Non-Null Count  Dtype  \n",
      "---  ------              --------------  -----  \n",
      " 0   Movie Name          9920 non-null   object \n",
      " 1   IMDb Rating         8671 non-null   float64\n",
      " 2   Popularity          187 non-null    object \n",
      " 3   Release Date        6249 non-null   object \n",
      " 4   Box Office          2570 non-null   object \n",
      " 5   Runtime             7699 non-null   object \n",
      " 6   Genre               10004 non-null  object \n",
      " 7   Director            10004 non-null  object \n",
      " 8   Cast                10004 non-null  object \n",
      " 9   Production Company  10004 non-null  object \n",
      " 10  Country             5998 non-null   object \n",
      " 11  Language            10004 non-null  object \n",
      "dtypes: float64(1), object(11)\n",
      "memory usage: 938.0+ KB\n"
     ]
    }
   ],
   "source": [
    "df.info()"
   ]
  },
  {
   "cell_type": "markdown",
   "metadata": {},
   "source": [
    "## Data Cleaning"
   ]
  },
  {
   "cell_type": "code",
   "execution_count": 47,
   "metadata": {},
   "outputs": [],
   "source": [
    "# Droping the columns that have many null values or are not relevant to the analysis\n",
    "df = df.drop(['Movie Name', 'Popularity', 'Production Company', 'Box Office', 'Country'], axis=1)"
   ]
  },
  {
   "cell_type": "code",
   "execution_count": 48,
   "metadata": {},
   "outputs": [],
   "source": [
    "for i in range(len(df)):\n",
    "    j = df.loc[i, 'Language']\n",
    "    j = j[1:-1].split(',')\n",
    "    flg = False\n",
    "    for k in j:\n",
    "        if k.strip()==\"'Hindi'\":\n",
    "            df.loc[i, \"isHindi\"] = 1\n",
    "            flg = True\n",
    "            break\n",
    "    if not flg:\n",
    "        df.loc[i, \"isHindi\"] = 0\n",
    "df.drop(['Language'], axis=1, inplace=True)"
   ]
  },
  {
   "cell_type": "code",
   "execution_count": 49,
   "metadata": {},
   "outputs": [],
   "source": [
    "#Drop rows with missing values in IMDB rating\n",
    "df = df.dropna(subset=['IMDb Rating'])"
   ]
  },
  {
   "cell_type": "code",
   "execution_count": 50,
   "metadata": {},
   "outputs": [],
   "source": [
    "### Extracting the year of release column from date of release and filling the missing values with mode\n",
    "df['Release Date'].fillna('July 2023', inplace=True)\n",
    "years = df['Release Date'].apply(lambda x: (x.split('(')[0])).apply(lambda x: x.split()[-1] if len(x.split(','))==1 else x.split(',')[1]) \n",
    "df['Year'] = years\n",
    "df['Year'] = df['Year'].astype(int)"
   ]
  },
  {
   "cell_type": "code",
   "execution_count": 51,
   "metadata": {},
   "outputs": [],
   "source": [
    "df.drop('Release Date', axis=1, inplace=True)"
   ]
  },
  {
   "cell_type": "code",
   "execution_count": 52,
   "metadata": {},
   "outputs": [],
   "source": [
    "# Replacing cast and director columns with the first entry in the list\n",
    "df['Cast'] = df['Cast'].apply(lambda x: x[1:-1].split(', ')[0] if x != '[]' else np.NaN)\n",
    "df.dropna(subset=['Cast'], inplace=True)\n",
    "\n",
    "df['Director'] = df['Director'].apply(lambda x: x[1:-1].split(',')[0] if x!='[]' else np.NaN)\n",
    "df.dropna(subset=['Director'], inplace=True)"
   ]
  },
  {
   "cell_type": "code",
   "execution_count": 53,
   "metadata": {},
   "outputs": [],
   "source": [
    "## Cleaning the runtime column by replacing it with number of minutes\n",
    "df['Runtime'] = df['Runtime'].fillna('120 minutes')\n",
    "df['Runtime'] = df['Runtime'].apply(lambda x: int(x.split()[0]) if 'hours' not in x else (int(x.split()[0])*60 + int(x.split()[2]) if len(x.split())>2 else int(x.split()[0])*60))"
   ]
  },
  {
   "cell_type": "code",
   "execution_count": 54,
   "metadata": {},
   "outputs": [
    {
     "data": {
      "text/html": [
       "<div>\n",
       "<style scoped>\n",
       "    .dataframe tbody tr th:only-of-type {\n",
       "        vertical-align: middle;\n",
       "    }\n",
       "\n",
       "    .dataframe tbody tr th {\n",
       "        vertical-align: top;\n",
       "    }\n",
       "\n",
       "    .dataframe thead th {\n",
       "        text-align: right;\n",
       "    }\n",
       "</style>\n",
       "<table border=\"1\" class=\"dataframe\">\n",
       "  <thead>\n",
       "    <tr style=\"text-align: right;\">\n",
       "      <th></th>\n",
       "      <th>IMDb Rating</th>\n",
       "      <th>Runtime</th>\n",
       "      <th>Genre</th>\n",
       "      <th>Director</th>\n",
       "      <th>Cast</th>\n",
       "      <th>isHindi</th>\n",
       "      <th>Year</th>\n",
       "    </tr>\n",
       "  </thead>\n",
       "  <tbody>\n",
       "    <tr>\n",
       "      <th>4</th>\n",
       "      <td>5.2</td>\n",
       "      <td>142</td>\n",
       "      <td>'Drama'</td>\n",
       "      <td>'Sanjay Leela Bhansali'</td>\n",
       "      <td>'Ranbir Kapoor'</td>\n",
       "      <td>1.0</td>\n",
       "      <td>2007</td>\n",
       "    </tr>\n",
       "    <tr>\n",
       "      <th>4</th>\n",
       "      <td>5.2</td>\n",
       "      <td>142</td>\n",
       "      <td>'Musical'</td>\n",
       "      <td>'Sanjay Leela Bhansali'</td>\n",
       "      <td>'Ranbir Kapoor'</td>\n",
       "      <td>1.0</td>\n",
       "      <td>2007</td>\n",
       "    </tr>\n",
       "    <tr>\n",
       "      <th>4</th>\n",
       "      <td>5.2</td>\n",
       "      <td>142</td>\n",
       "      <td>'Romance'</td>\n",
       "      <td>'Sanjay Leela Bhansali'</td>\n",
       "      <td>'Ranbir Kapoor'</td>\n",
       "      <td>1.0</td>\n",
       "      <td>2007</td>\n",
       "    </tr>\n",
       "    <tr>\n",
       "      <th>5</th>\n",
       "      <td>7.1</td>\n",
       "      <td>141</td>\n",
       "      <td>'Comedy'</td>\n",
       "      <td>'Amit Joshi'</td>\n",
       "      <td>'Shahid Kapoor'</td>\n",
       "      <td>1.0</td>\n",
       "      <td>2024</td>\n",
       "    </tr>\n",
       "    <tr>\n",
       "      <th>5</th>\n",
       "      <td>7.1</td>\n",
       "      <td>141</td>\n",
       "      <td>'Drama'</td>\n",
       "      <td>'Amit Joshi'</td>\n",
       "      <td>'Shahid Kapoor'</td>\n",
       "      <td>1.0</td>\n",
       "      <td>2024</td>\n",
       "    </tr>\n",
       "  </tbody>\n",
       "</table>\n",
       "</div>"
      ],
      "text/plain": [
       "   IMDb Rating  Runtime      Genre                 Director             Cast  \\\n",
       "4          5.2      142    'Drama'  'Sanjay Leela Bhansali'  'Ranbir Kapoor'   \n",
       "4          5.2      142  'Musical'  'Sanjay Leela Bhansali'  'Ranbir Kapoor'   \n",
       "4          5.2      142  'Romance'  'Sanjay Leela Bhansali'  'Ranbir Kapoor'   \n",
       "5          7.1      141   'Comedy'             'Amit Joshi'  'Shahid Kapoor'   \n",
       "5          7.1      141    'Drama'             'Amit Joshi'  'Shahid Kapoor'   \n",
       "\n",
       "   isHindi  Year  \n",
       "4      1.0  2007  \n",
       "4      1.0  2007  \n",
       "4      1.0  2007  \n",
       "5      1.0  2024  \n",
       "5      1.0  2024  "
      ]
     },
     "execution_count": 54,
     "metadata": {},
     "output_type": "execute_result"
    }
   ],
   "source": [
    "## Opening the Genre column and filling the missing values with mode\n",
    "df['Genre'] = df['Genre'].apply(lambda x: x[1:-1].split(','))\n",
    "df = df.explode('Genre')\n",
    "df['Genre'].fillna(df['Genre'].mode()[0], inplace=True)\n",
    "df['Genre'] = df['Genre'].apply(lambda x: x.lstrip().rstrip())\n",
    "df.head()"
   ]
  },
  {
   "cell_type": "markdown",
   "metadata": {},
   "source": [
    "## Feature Engineering"
   ]
  },
  {
   "cell_type": "code",
   "execution_count": 55,
   "metadata": {},
   "outputs": [],
   "source": [
    "genre_mean_rating = df.groupby('Genre')['IMDb Rating'].transform('mean')\n",
    "df['Genre_mean_rating'] = genre_mean_rating\n",
    "df.drop(['Genre'], axis=1, inplace=True)\n",
    "\n",
    "director_mean_rating = df.groupby('Director')['IMDb Rating'].transform('mean')\n",
    "df['Director_mean_rating'] = director_mean_rating\n",
    "df.drop(['Director'], axis=1, inplace=True)\n",
    "\n",
    "cast_mean_rating = df.groupby('Cast')['IMDb Rating'].transform('mean')\n",
    "df['Cast_mean_rating'] = cast_mean_rating\n",
    "df.drop(['Cast'], axis=1, inplace=True)"
   ]
  },
  {
   "cell_type": "code",
   "execution_count": 56,
   "metadata": {},
   "outputs": [],
   "source": [
    "# for i in range(len(df)):\n",
    "#     j = df.loc[i, 'Language']\n",
    "#     j = j[1:-1].split(',')\n",
    "#     flg = False\n",
    "#     for k in j:\n",
    "#         if k.strip()==\"'Hindi'\":\n",
    "#             df.loc[i, \"isHindi\"] = 1\n",
    "#             flg = True\n",
    "#             break\n",
    "#     if not flg:\n",
    "#         df.loc[i, \"isHindi\"] = 0\n",
    "# df.drop(['Language'], axis=1, inplace=True)"
   ]
  },
  {
   "cell_type": "code",
   "execution_count": 57,
   "metadata": {},
   "outputs": [
    {
     "data": {
      "text/html": [
       "<div>\n",
       "<style scoped>\n",
       "    .dataframe tbody tr th:only-of-type {\n",
       "        vertical-align: middle;\n",
       "    }\n",
       "\n",
       "    .dataframe tbody tr th {\n",
       "        vertical-align: top;\n",
       "    }\n",
       "\n",
       "    .dataframe thead th {\n",
       "        text-align: right;\n",
       "    }\n",
       "</style>\n",
       "<table border=\"1\" class=\"dataframe\">\n",
       "  <thead>\n",
       "    <tr style=\"text-align: right;\">\n",
       "      <th></th>\n",
       "      <th>IMDb Rating</th>\n",
       "      <th>Runtime</th>\n",
       "      <th>isHindi</th>\n",
       "      <th>Year</th>\n",
       "      <th>Genre_mean_rating</th>\n",
       "      <th>Director_mean_rating</th>\n",
       "      <th>Cast_mean_rating</th>\n",
       "    </tr>\n",
       "  </thead>\n",
       "  <tbody>\n",
       "    <tr>\n",
       "      <th>4</th>\n",
       "      <td>5.2</td>\n",
       "      <td>142</td>\n",
       "      <td>1.0</td>\n",
       "      <td>2007</td>\n",
       "      <td>6.546046</td>\n",
       "      <td>7.081481</td>\n",
       "      <td>6.339130</td>\n",
       "    </tr>\n",
       "    <tr>\n",
       "      <th>4</th>\n",
       "      <td>5.2</td>\n",
       "      <td>142</td>\n",
       "      <td>1.0</td>\n",
       "      <td>2007</td>\n",
       "      <td>6.481957</td>\n",
       "      <td>7.081481</td>\n",
       "      <td>6.339130</td>\n",
       "    </tr>\n",
       "    <tr>\n",
       "      <th>4</th>\n",
       "      <td>5.2</td>\n",
       "      <td>142</td>\n",
       "      <td>1.0</td>\n",
       "      <td>2007</td>\n",
       "      <td>6.309080</td>\n",
       "      <td>7.081481</td>\n",
       "      <td>6.339130</td>\n",
       "    </tr>\n",
       "    <tr>\n",
       "      <th>5</th>\n",
       "      <td>7.1</td>\n",
       "      <td>141</td>\n",
       "      <td>1.0</td>\n",
       "      <td>2024</td>\n",
       "      <td>6.258643</td>\n",
       "      <td>7.100000</td>\n",
       "      <td>5.895714</td>\n",
       "    </tr>\n",
       "    <tr>\n",
       "      <th>5</th>\n",
       "      <td>7.1</td>\n",
       "      <td>141</td>\n",
       "      <td>1.0</td>\n",
       "      <td>2024</td>\n",
       "      <td>6.546046</td>\n",
       "      <td>7.100000</td>\n",
       "      <td>5.895714</td>\n",
       "    </tr>\n",
       "  </tbody>\n",
       "</table>\n",
       "</div>"
      ],
      "text/plain": [
       "   IMDb Rating  Runtime  isHindi  Year  Genre_mean_rating  \\\n",
       "4          5.2      142      1.0  2007           6.546046   \n",
       "4          5.2      142      1.0  2007           6.481957   \n",
       "4          5.2      142      1.0  2007           6.309080   \n",
       "5          7.1      141      1.0  2024           6.258643   \n",
       "5          7.1      141      1.0  2024           6.546046   \n",
       "\n",
       "   Director_mean_rating  Cast_mean_rating  \n",
       "4              7.081481          6.339130  \n",
       "4              7.081481          6.339130  \n",
       "4              7.081481          6.339130  \n",
       "5              7.100000          5.895714  \n",
       "5              7.100000          5.895714  "
      ]
     },
     "execution_count": 57,
     "metadata": {},
     "output_type": "execute_result"
    }
   ],
   "source": [
    "df.head()"
   ]
  },
  {
   "cell_type": "markdown",
   "metadata": {},
   "source": [
    "### Scaling the data so easily usable by SVM and logistic regression"
   ]
  },
  {
   "cell_type": "code",
   "execution_count": 58,
   "metadata": {},
   "outputs": [
    {
     "data": {
      "text/html": [
       "<div>\n",
       "<style scoped>\n",
       "    .dataframe tbody tr th:only-of-type {\n",
       "        vertical-align: middle;\n",
       "    }\n",
       "\n",
       "    .dataframe tbody tr th {\n",
       "        vertical-align: top;\n",
       "    }\n",
       "\n",
       "    .dataframe thead th {\n",
       "        text-align: right;\n",
       "    }\n",
       "</style>\n",
       "<table border=\"1\" class=\"dataframe\">\n",
       "  <thead>\n",
       "    <tr style=\"text-align: right;\">\n",
       "      <th></th>\n",
       "      <th>IMDb Rating</th>\n",
       "      <th>Runtime</th>\n",
       "      <th>isHindi</th>\n",
       "      <th>Year</th>\n",
       "      <th>Genre_mean_rating</th>\n",
       "      <th>Director_mean_rating</th>\n",
       "      <th>Cast_mean_rating</th>\n",
       "    </tr>\n",
       "  </thead>\n",
       "  <tbody>\n",
       "    <tr>\n",
       "      <th>4</th>\n",
       "      <td>5.2</td>\n",
       "      <td>0.401554</td>\n",
       "      <td>0.985711</td>\n",
       "      <td>-0.470917</td>\n",
       "      <td>0.628138</td>\n",
       "      <td>0.608887</td>\n",
       "      <td>-0.033658</td>\n",
       "    </tr>\n",
       "    <tr>\n",
       "      <th>4</th>\n",
       "      <td>5.2</td>\n",
       "      <td>0.401554</td>\n",
       "      <td>0.985711</td>\n",
       "      <td>-0.470917</td>\n",
       "      <td>0.394314</td>\n",
       "      <td>0.608887</td>\n",
       "      <td>-0.033658</td>\n",
       "    </tr>\n",
       "    <tr>\n",
       "      <th>4</th>\n",
       "      <td>5.2</td>\n",
       "      <td>0.401554</td>\n",
       "      <td>0.985711</td>\n",
       "      <td>-0.470917</td>\n",
       "      <td>-0.236422</td>\n",
       "      <td>0.608887</td>\n",
       "      <td>-0.033658</td>\n",
       "    </tr>\n",
       "    <tr>\n",
       "      <th>5</th>\n",
       "      <td>7.1</td>\n",
       "      <td>0.384253</td>\n",
       "      <td>0.985711</td>\n",
       "      <td>0.802478</td>\n",
       "      <td>-0.420438</td>\n",
       "      <td>0.624823</td>\n",
       "      <td>-0.463146</td>\n",
       "    </tr>\n",
       "    <tr>\n",
       "      <th>5</th>\n",
       "      <td>7.1</td>\n",
       "      <td>0.384253</td>\n",
       "      <td>0.985711</td>\n",
       "      <td>0.802478</td>\n",
       "      <td>0.628138</td>\n",
       "      <td>0.624823</td>\n",
       "      <td>-0.463146</td>\n",
       "    </tr>\n",
       "  </tbody>\n",
       "</table>\n",
       "</div>"
      ],
      "text/plain": [
       "   IMDb Rating   Runtime   isHindi      Year  Genre_mean_rating  \\\n",
       "4          5.2  0.401554  0.985711 -0.470917           0.628138   \n",
       "4          5.2  0.401554  0.985711 -0.470917           0.394314   \n",
       "4          5.2  0.401554  0.985711 -0.470917          -0.236422   \n",
       "5          7.1  0.384253  0.985711  0.802478          -0.420438   \n",
       "5          7.1  0.384253  0.985711  0.802478           0.628138   \n",
       "\n",
       "   Director_mean_rating  Cast_mean_rating  \n",
       "4              0.608887         -0.033658  \n",
       "4              0.608887         -0.033658  \n",
       "4              0.608887         -0.033658  \n",
       "5              0.624823         -0.463146  \n",
       "5              0.624823         -0.463146  "
      ]
     },
     "execution_count": 58,
     "metadata": {},
     "output_type": "execute_result"
    }
   ],
   "source": [
    "#Scale the numerical columns\n",
    "from sklearn.preprocessing import StandardScaler\n",
    "\n",
    "scaler = StandardScaler()\n",
    "df[['Runtime', 'isHindi', 'Year', 'Genre_mean_rating', 'Director_mean_rating', 'Cast_mean_rating']] = scaler.fit_transform(df[['Runtime', 'isHindi', 'Year', 'Genre_mean_rating', 'Director_mean_rating', 'Cast_mean_rating']])\n",
    "df.head()\n"
   ]
  },
  {
   "cell_type": "markdown",
   "metadata": {},
   "source": [
    "# Training and Testing"
   ]
  },
  {
   "cell_type": "markdown",
   "metadata": {},
   "source": [
    "### Defining the target and making a train test split"
   ]
  },
  {
   "cell_type": "code",
   "execution_count": 59,
   "metadata": {},
   "outputs": [],
   "source": [
    "df['target'] = df['IMDb Rating'].apply(lambda x: 0 if x<3 else (1 if x<5 else (2 if x<7 else 3)))\n",
    "df.drop('IMDb Rating', axis=1, inplace=True)"
   ]
  },
  {
   "cell_type": "code",
   "execution_count": 60,
   "metadata": {},
   "outputs": [],
   "source": [
    "X = df.drop(['target'], axis=1)\n",
    "y = df['target']"
   ]
  },
  {
   "cell_type": "code",
   "execution_count": 61,
   "metadata": {},
   "outputs": [],
   "source": [
    "from sklearn.model_selection import train_test_split\n",
    "X_train, X_test, y_train, y_test = train_test_split(X, y, test_size=0.2, random_state=42)"
   ]
  },
  {
   "cell_type": "markdown",
   "metadata": {},
   "source": [
    "### Logistic Regression"
   ]
  },
  {
   "cell_type": "code",
   "execution_count": 62,
   "metadata": {},
   "outputs": [
    {
     "data": {
      "text/plain": [
       "0.6129685916919959"
      ]
     },
     "execution_count": 62,
     "metadata": {},
     "output_type": "execute_result"
    }
   ],
   "source": [
    "from models.LogisticRegression import LogisticRegression\n",
    "regr = LogisticRegression(regularization=\"l2\")\n",
    "regr.fit(X_train, y_train)\n",
    "y_pred = regr.predict(X_test)\n",
    "accuracy_score(y_test, y_pred)"
   ]
  },
  {
   "cell_type": "markdown",
   "metadata": {},
   "source": [
    "### Support Vector Machine"
   ]
  },
  {
   "cell_type": "code",
   "execution_count": 63,
   "metadata": {},
   "outputs": [
    {
     "name": "stdout",
     "output_type": "stream",
     "text": [
      "Accuracy score for SVM: 0.6663289429246876\n"
     ]
    }
   ],
   "source": [
    "\n",
    "\n",
    "from models.SVM import MulticlassSVM\n",
    "\n",
    "n_classes = len(np.unique(y_train.to_numpy()))  # Number of classes\n",
    "\n",
    "# Initialize and train multiclass SVM\n",
    "svm = MulticlassSVM(n_classes,n_jobs=-1)  # Parallelize using all available CPU cores\n",
    "svm.fit(X_train.to_numpy(), y_train.to_numpy())\n",
    "\n",
    "y_pred = svm.predict(X_test.to_numpy())\n",
    "accuracy = accuracy_score(y_test, y_pred)\n",
    "print(\"Accuracy score for SVM:\", accuracy)"
   ]
  },
  {
   "cell_type": "markdown",
   "metadata": {},
   "source": [
    "### Decision Tree Classifier"
   ]
  },
  {
   "cell_type": "code",
   "execution_count": 19,
   "metadata": {},
   "outputs": [
    {
     "name": "stdout",
     "output_type": "stream",
     "text": [
      "Accuracy score for Decision Tree: 0.8959810874704491\n"
     ]
    }
   ],
   "source": [
    "from models.DecisionTree import DTC\n",
    "clf = DTC(40)\n",
    "clf.fit(X_train.to_numpy(), y_train.to_numpy())\n",
    "y_pred = clf.predict(X_test.to_numpy())\n",
    "accuracy = accuracy_score(y_test, y_pred)\n",
    "print(\"Accuracy score for Decision Tree:\", accuracy)"
   ]
  },
  {
   "cell_type": "markdown",
   "metadata": {},
   "source": [
    "### Random Forest Classifier"
   ]
  },
  {
   "cell_type": "code",
   "execution_count": 20,
   "metadata": {},
   "outputs": [
    {
     "name": "stdout",
     "output_type": "stream",
     "text": [
      "Accuracy score for Random Forest: 0.8824721377912867\n"
     ]
    }
   ],
   "source": [
    "from sklearn.ensemble import RandomForestClassifier\n",
    "from sklearn.metrics import accuracy_score\n",
    "\n",
    "rf = RandomForestClassifier()\n",
    "rf.fit(X_train, y_train)\n",
    "y_pred = rf.predict(X_test)\n",
    "accuracy = accuracy_score(y_test, y_pred)\n",
    "print(\"Accuracy score for Random Forest:\", accuracy)"
   ]
  },
  {
   "cell_type": "markdown",
   "metadata": {},
   "source": [
    "### Gaussian Naive Bayes"
   ]
  },
  {
   "cell_type": "code",
   "execution_count": 21,
   "metadata": {},
   "outputs": [
    {
     "name": "stdout",
     "output_type": "stream",
     "text": [
      "Accuracy Score for Gaussian Naive Bayes: 0.7149611617696724\n"
     ]
    }
   ],
   "source": [
    "from models.NaiveBayes import GNB\n",
    "model = GNB()\n",
    "model.fit(X_train, y_train)\n",
    "y_pred = model.predict(X_test)\n",
    "accuracy = accuracy_score(y_test, y_pred)\n",
    "print(\"Accuracy Score for Gaussian Naive Bayes:\", accuracy)"
   ]
  },
  {
   "cell_type": "markdown",
   "metadata": {},
   "source": [
    "### XGBoost Classifier"
   ]
  },
  {
   "cell_type": "code",
   "execution_count": 22,
   "metadata": {},
   "outputs": [
    {
     "name": "stdout",
     "output_type": "stream",
     "text": [
      "Accuracy score for XGBoost: 0.8649105032083756\n"
     ]
    }
   ],
   "source": [
    "import xgboost as xgb\n",
    "#Creating an XGBoost classifier\n",
    "model = xgb.XGBClassifier()\n",
    "\n",
    "#Training the model on the training data\n",
    "model.fit(X_train, y_train)\n",
    "\n",
    "#Making predictions on the test set\n",
    "predictions = model.predict(X_test)\n",
    "\n",
    "#Calculating accuracy\n",
    "accuracy = accuracy_score(y_test, predictions)\n",
    "print(\"Accuracy score for XGBoost:\", accuracy)"
   ]
  },
  {
   "cell_type": "code",
   "execution_count": null,
   "metadata": {},
   "outputs": [],
   "source": []
  }
 ],
 "metadata": {
  "kernelspec": {
   "display_name": "Python 3",
   "language": "python",
   "name": "python3"
  },
  "language_info": {
   "codemirror_mode": {
    "name": "ipython",
    "version": 3
   },
   "file_extension": ".py",
   "mimetype": "text/x-python",
   "name": "python",
   "nbconvert_exporter": "python",
   "pygments_lexer": "ipython3",
   "version": "3.9.7"
  }
 },
 "nbformat": 4,
 "nbformat_minor": 2
}
