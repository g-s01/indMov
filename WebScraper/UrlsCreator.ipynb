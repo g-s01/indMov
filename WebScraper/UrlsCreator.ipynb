{
 "cells": [
  {
   "cell_type": "code",
   "execution_count": 63,
   "id": "a37bd775",
   "metadata": {},
   "outputs": [],
   "source": [
    "from selenium import webdriver\n",
    "from selenium.webdriver.common.keys import Keys\n",
    "from selenium.webdriver.common.by import By"
   ]
  },
  {
   "cell_type": "code",
   "execution_count": 64,
   "id": "5b58b726",
   "metadata": {},
   "outputs": [],
   "source": [
    "driver = webdriver.Chrome()"
   ]
  },
  {
   "cell_type": "code",
   "execution_count": 65,
   "id": "dd369eb4",
   "metadata": {},
   "outputs": [],
   "source": [
    "driver.get(\"https://www.imdb.com/search/title/?countries=IN\")"
   ]
  },
  {
   "cell_type": "code",
   "execution_count": null,
   "id": "421320c4",
   "metadata": {},
   "outputs": [],
   "source": []
  },
  {
   "cell_type": "code",
   "execution_count": 77,
   "id": "effa284e",
   "metadata": {},
   "outputs": [
    {
     "name": "stdout",
     "output_type": "stream",
     "text": [
      "Clicked 1 times\n",
      "Clicked 2 times\n",
      "Clicked 3 times\n",
      "Clicked 4 times\n",
      "Clicked 5 times\n",
      "Clicked 6 times\n",
      "Clicked 7 times\n",
      "Clicked 8 times\n",
      "Clicked 9 times\n",
      "Clicked 10 times\n",
      "Clicked 11 times\n",
      "Clicked 12 times\n",
      "Clicked 13 times\n",
      "Clicked 14 times\n",
      "Clicked 15 times\n",
      "Clicked 16 times\n",
      "Clicked 17 times\n",
      "Clicked 18 times\n",
      "Clicked 19 times\n",
      "Clicked 20 times\n",
      "Clicked 21 times\n",
      "Clicked 22 times\n",
      "Clicked 23 times\n",
      "Clicked 24 times\n",
      "Clicked 25 times\n",
      "Clicked 26 times\n",
      "Clicked 27 times\n",
      "Clicked 28 times\n",
      "Clicked 29 times\n",
      "Clicked 30 times\n",
      "Clicked 31 times\n",
      "Clicked 32 times\n",
      "Clicked 33 times\n",
      "Clicked 34 times\n",
      "Clicked 35 times\n",
      "Clicked 36 times\n",
      "Clicked 37 times\n",
      "Clicked 38 times\n",
      "Clicked 39 times\n",
      "Clicked 40 times\n",
      "Clicked 41 times\n",
      "Clicked 42 times\n",
      "Clicked 43 times\n",
      "Clicked 44 times\n",
      "Clicked 45 times\n",
      "Clicked 46 times\n",
      "Clicked 47 times\n",
      "Clicked 48 times\n",
      "Clicked 49 times\n",
      "Clicked 50 times\n",
      "Clicked 51 times\n",
      "Clicked 52 times\n",
      "Clicked 53 times\n",
      "Clicked 54 times\n",
      "Clicked 55 times\n",
      "Clicked 56 times\n",
      "Clicked 57 times\n",
      "Clicked 58 times\n",
      "Clicked 59 times\n",
      "Clicked 60 times\n",
      "Clicked 61 times\n",
      "Clicked 62 times\n",
      "Clicked 63 times\n",
      "Clicked 64 times\n",
      "Clicked 65 times\n",
      "Clicked 66 times\n",
      "Clicked 67 times\n",
      "Clicked 68 times\n",
      "Clicked 69 times\n",
      "Clicked 70 times\n",
      "Clicked 71 times\n",
      "Clicked 72 times\n",
      "Clicked 73 times\n",
      "Clicked 74 times\n",
      "Clicked 75 times\n",
      "Clicked 76 times\n",
      "Clicked 77 times\n",
      "Clicked 78 times\n",
      "Clicked 79 times\n",
      "Clicked 80 times\n",
      "Clicked 81 times\n",
      "Clicked 82 times\n",
      "Clicked 83 times\n",
      "Clicked 84 times\n",
      "Clicked 85 times\n",
      "Clicked 86 times\n",
      "Clicked 87 times\n",
      "Clicked 88 times\n",
      "Clicked 89 times\n",
      "Clicked 90 times\n",
      "Clicked 91 times\n",
      "Clicked 92 times\n",
      "Clicked 93 times\n",
      "Clicked 94 times\n",
      "Clicked 95 times\n",
      "Clicked 96 times\n",
      "Clicked 97 times\n",
      "Clicked 98 times\n",
      "Clicked 99 times\n",
      "Clicked 100 times\n"
     ]
    }
   ],
   "source": [
    "import time\n",
    "for i in range(1000):\n",
    "    btn = (driver.find_element(By.CLASS_NAME,\"ipc-see-more__button\"))    \n",
    "    driver.execute_script(\"arguments[0].click();\", btn)\n",
    "    print(f'Clicked {i+1} times')\n",
    "    time.sleep(10)"
   ]
  },
  {
   "cell_type": "code",
   "execution_count": 78,
   "id": "e5e790c5",
   "metadata": {},
   "outputs": [],
   "source": [
    "results = driver.find_elements(By.XPATH, '//a[@class=\"ipc-title-link-wrapper\"]')"
   ]
  },
  {
   "cell_type": "code",
   "execution_count": 79,
   "id": "6d5c2a28",
   "metadata": {},
   "outputs": [
    {
     "name": "stdout",
     "output_type": "stream",
     "text": [
      "10100\n"
     ]
    }
   ],
   "source": [
    "print(len(results))\n",
    "f = open('urls.txt', 'w')\n",
    "for result in results:\n",
    "    f.write(result.get_attribute('href'))\n",
    "    f.write('\\n')\n",
    "f.close()"
   ]
  },
  {
   "cell_type": "code",
   "execution_count": 80,
   "id": "465ebec8",
   "metadata": {},
   "outputs": [],
   "source": [
    "driver.close()"
   ]
  },
  {
   "cell_type": "code",
   "execution_count": null,
   "id": "7a03d811",
   "metadata": {},
   "outputs": [],
   "source": []
  }
 ],
 "metadata": {
  "kernelspec": {
   "display_name": "Python 3 (ipykernel)",
   "language": "python",
   "name": "python3"
  },
  "language_info": {
   "codemirror_mode": {
    "name": "ipython",
    "version": 3
   },
   "file_extension": ".py",
   "mimetype": "text/x-python",
   "name": "python",
   "nbconvert_exporter": "python",
   "pygments_lexer": "ipython3",
   "version": "3.9.7"
  }
 },
 "nbformat": 4,
 "nbformat_minor": 5
}
