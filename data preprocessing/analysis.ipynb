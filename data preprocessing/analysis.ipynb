{
 "cells": [
  {
   "cell_type": "markdown",
   "metadata": {},
   "source": [
    "# Imbd Dataset analysis\n"
   ]
  },
  {
   "cell_type": "code",
   "execution_count": 99,
   "metadata": {},
   "outputs": [],
   "source": [
    "import pandas as pd\n",
    "import numpy as np\n",
    "import matplotlib.pyplot as plt\n",
    "import seaborn as sns\n",
    "from scipy import stats\n",
    "from ast import literal_eval\n",
    "import re"
   ]
  },
  {
   "cell_type": "code",
   "execution_count": 100,
   "metadata": {},
   "outputs": [],
   "source": [
    "df = pd.read_csv('../data/data.csv')"
   ]
  },
  {
   "cell_type": "code",
   "execution_count": 101,
   "metadata": {},
   "outputs": [
    {
     "name": "stdout",
     "output_type": "stream",
     "text": [
      "Number of rows and columns in the data set:  (10004, 12)\n"
     ]
    }
   ],
   "source": [
    "print(\"Number of rows and columns in the data set: \", df.shape)"
   ]
  },
  {
   "cell_type": "code",
   "execution_count": 102,
   "metadata": {
    "scrolled": false
   },
   "outputs": [
    {
     "data": {
      "text/html": [
       "<div>\n",
       "<style scoped>\n",
       "    .dataframe tbody tr th:only-of-type {\n",
       "        vertical-align: middle;\n",
       "    }\n",
       "\n",
       "    .dataframe tbody tr th {\n",
       "        vertical-align: top;\n",
       "    }\n",
       "\n",
       "    .dataframe thead th {\n",
       "        text-align: right;\n",
       "    }\n",
       "</style>\n",
       "<table border=\"1\" class=\"dataframe\">\n",
       "  <thead>\n",
       "    <tr style=\"text-align: right;\">\n",
       "      <th></th>\n",
       "      <th>Movie Name</th>\n",
       "      <th>IMDb Rating</th>\n",
       "      <th>Popularity</th>\n",
       "      <th>Release Date</th>\n",
       "      <th>Box Office</th>\n",
       "      <th>Runtime</th>\n",
       "      <th>Genre</th>\n",
       "      <th>Director</th>\n",
       "      <th>Cast</th>\n",
       "      <th>Production Company</th>\n",
       "      <th>Country</th>\n",
       "      <th>Language</th>\n",
       "    </tr>\n",
       "  </thead>\n",
       "  <tbody>\n",
       "    <tr>\n",
       "      <th>0</th>\n",
       "      <td>The Kerala Story Bangla</td>\n",
       "      <td>6.5</td>\n",
       "      <td>NaN</td>\n",
       "      <td>NaN</td>\n",
       "      <td>NaN</td>\n",
       "      <td>12 minutes</td>\n",
       "      <td>['Short', 'Drama']</td>\n",
       "      <td>['Satyajit Das']</td>\n",
       "      <td>[]</td>\n",
       "      <td>[]</td>\n",
       "      <td>NaN</td>\n",
       "      <td>['Bengali']</td>\n",
       "    </tr>\n",
       "    <tr>\n",
       "      <th>1</th>\n",
       "      <td>Generation Z</td>\n",
       "      <td>NaN</td>\n",
       "      <td>NaN</td>\n",
       "      <td>NaN</td>\n",
       "      <td>NaN</td>\n",
       "      <td>NaN</td>\n",
       "      <td>['Horror', 'Comedy']</td>\n",
       "      <td>[]</td>\n",
       "      <td>['Chris Reilly', 'Ellora Torchia', 'Viola Pret...</td>\n",
       "      <td>['All3Media International', 'The Forge', 'Zwei...</td>\n",
       "      <td>NaN</td>\n",
       "      <td>[]</td>\n",
       "    </tr>\n",
       "    <tr>\n",
       "      <th>2</th>\n",
       "      <td>Criminal Justice: Adhura Sach</td>\n",
       "      <td>7.7</td>\n",
       "      <td>NaN</td>\n",
       "      <td>August 26, 2022 (India)</td>\n",
       "      <td>NaN</td>\n",
       "      <td>45 minutes</td>\n",
       "      <td>['Crime', 'Drama', 'Mystery']</td>\n",
       "      <td>[]</td>\n",
       "      <td>['Pankaj Tripathi', 'Swastika Mukherjee', 'Pur...</td>\n",
       "      <td>['Applause Entertainment Ltd.', 'BBC Studios']</td>\n",
       "      <td>India</td>\n",
       "      <td>['Hindi']</td>\n",
       "    </tr>\n",
       "    <tr>\n",
       "      <th>3</th>\n",
       "      <td>Madhil Mel Kaadhal</td>\n",
       "      <td>NaN</td>\n",
       "      <td>NaN</td>\n",
       "      <td>NaN</td>\n",
       "      <td>NaN</td>\n",
       "      <td>NaN</td>\n",
       "      <td>['Romance']</td>\n",
       "      <td>['Anjana Ali Khan']</td>\n",
       "      <td>['Mugen Rao', 'Divya Bharathi', 'Sakshi Agarwal']</td>\n",
       "      <td>[]</td>\n",
       "      <td>NaN</td>\n",
       "      <td>['Tamil']</td>\n",
       "    </tr>\n",
       "    <tr>\n",
       "      <th>4</th>\n",
       "      <td>Saawariya</td>\n",
       "      <td>5.2</td>\n",
       "      <td>NaN</td>\n",
       "      <td>November 9, 2007 (India)</td>\n",
       "      <td>$18,525,631</td>\n",
       "      <td>2 hours 22 minutes</td>\n",
       "      <td>['Drama', 'Musical', 'Romance']</td>\n",
       "      <td>['Sanjay Leela Bhansali']</td>\n",
       "      <td>['Ranbir Kapoor', 'Sonam Kapoor', 'Salman Khan']</td>\n",
       "      <td>['SPE Films', 'SLB Films Pvt. Ltd.']</td>\n",
       "      <td>NaN</td>\n",
       "      <td>['Hindi']</td>\n",
       "    </tr>\n",
       "  </tbody>\n",
       "</table>\n",
       "</div>"
      ],
      "text/plain": [
       "                      Movie Name  IMDb Rating Popularity  \\\n",
       "0        The Kerala Story Bangla          6.5        NaN   \n",
       "1                   Generation Z          NaN        NaN   \n",
       "2  Criminal Justice: Adhura Sach          7.7        NaN   \n",
       "3             Madhil Mel Kaadhal          NaN        NaN   \n",
       "4                      Saawariya          5.2        NaN   \n",
       "\n",
       "               Release Date   Box Office             Runtime  \\\n",
       "0                       NaN          NaN          12 minutes   \n",
       "1                       NaN          NaN                 NaN   \n",
       "2   August 26, 2022 (India)          NaN          45 minutes   \n",
       "3                       NaN          NaN                 NaN   \n",
       "4  November 9, 2007 (India)  $18,525,631  2 hours 22 minutes   \n",
       "\n",
       "                             Genre                   Director  \\\n",
       "0               ['Short', 'Drama']           ['Satyajit Das']   \n",
       "1             ['Horror', 'Comedy']                         []   \n",
       "2    ['Crime', 'Drama', 'Mystery']                         []   \n",
       "3                      ['Romance']        ['Anjana Ali Khan']   \n",
       "4  ['Drama', 'Musical', 'Romance']  ['Sanjay Leela Bhansali']   \n",
       "\n",
       "                                                Cast  \\\n",
       "0                                                 []   \n",
       "1  ['Chris Reilly', 'Ellora Torchia', 'Viola Pret...   \n",
       "2  ['Pankaj Tripathi', 'Swastika Mukherjee', 'Pur...   \n",
       "3  ['Mugen Rao', 'Divya Bharathi', 'Sakshi Agarwal']   \n",
       "4   ['Ranbir Kapoor', 'Sonam Kapoor', 'Salman Khan']   \n",
       "\n",
       "                                  Production Company Country     Language  \n",
       "0                                                 []     NaN  ['Bengali']  \n",
       "1  ['All3Media International', 'The Forge', 'Zwei...     NaN           []  \n",
       "2     ['Applause Entertainment Ltd.', 'BBC Studios']   India    ['Hindi']  \n",
       "3                                                 []     NaN    ['Tamil']  \n",
       "4               ['SPE Films', 'SLB Films Pvt. Ltd.']     NaN    ['Hindi']  "
      ]
     },
     "execution_count": 102,
     "metadata": {},
     "output_type": "execute_result"
    }
   ],
   "source": [
    "df.head(5)"
   ]
  },
  {
   "cell_type": "code",
   "execution_count": 103,
   "metadata": {},
   "outputs": [
    {
     "data": {
      "text/html": [
       "<div>\n",
       "<style scoped>\n",
       "    .dataframe tbody tr th:only-of-type {\n",
       "        vertical-align: middle;\n",
       "    }\n",
       "\n",
       "    .dataframe tbody tr th {\n",
       "        vertical-align: top;\n",
       "    }\n",
       "\n",
       "    .dataframe thead th {\n",
       "        text-align: right;\n",
       "    }\n",
       "</style>\n",
       "<table border=\"1\" class=\"dataframe\">\n",
       "  <thead>\n",
       "    <tr style=\"text-align: right;\">\n",
       "      <th></th>\n",
       "      <th>Movie Name</th>\n",
       "      <th>IMDb Rating</th>\n",
       "      <th>Popularity</th>\n",
       "      <th>Release Date</th>\n",
       "      <th>Box Office</th>\n",
       "      <th>Runtime</th>\n",
       "      <th>Genre</th>\n",
       "      <th>Director</th>\n",
       "      <th>Cast</th>\n",
       "      <th>Production Company</th>\n",
       "      <th>Country</th>\n",
       "      <th>Language</th>\n",
       "    </tr>\n",
       "  </thead>\n",
       "  <tbody>\n",
       "    <tr>\n",
       "      <th>9999</th>\n",
       "      <td>Simple Agi Ondh Love Story</td>\n",
       "      <td>8.0</td>\n",
       "      <td>NaN</td>\n",
       "      <td>NaN</td>\n",
       "      <td>NaN</td>\n",
       "      <td>2 hours 10 minutes</td>\n",
       "      <td>['Comedy', 'Romance']</td>\n",
       "      <td>['Suni']</td>\n",
       "      <td>['Rakshit Shetty', 'Shwetha Srivatsav', 'Srina...</td>\n",
       "      <td>[]</td>\n",
       "      <td>NaN</td>\n",
       "      <td>['Kannada']</td>\n",
       "    </tr>\n",
       "    <tr>\n",
       "      <th>10000</th>\n",
       "      <td>Chhoona Hai Aasmaan</td>\n",
       "      <td>8.7</td>\n",
       "      <td>NaN</td>\n",
       "      <td>October 15, 2007 (India)</td>\n",
       "      <td>NaN</td>\n",
       "      <td>30 minutes</td>\n",
       "      <td>['Action', 'Drama']</td>\n",
       "      <td>[]</td>\n",
       "      <td>['Janvi Chheda', 'Vivan Bhatena', 'Vaani Sharma']</td>\n",
       "      <td>[]</td>\n",
       "      <td>India</td>\n",
       "      <td>['Hindi']</td>\n",
       "    </tr>\n",
       "    <tr>\n",
       "      <th>10001</th>\n",
       "      <td>Loafer</td>\n",
       "      <td>5.0</td>\n",
       "      <td>NaN</td>\n",
       "      <td>December 17, 2015 (India)</td>\n",
       "      <td>₹200,000,000</td>\n",
       "      <td>2 hours 14 minutes</td>\n",
       "      <td>['Action', 'Drama']</td>\n",
       "      <td>['Puri Jagannadh']</td>\n",
       "      <td>['Varun Tej', 'Disha Patani', 'Revathi']</td>\n",
       "      <td>['CK Entertainments', 'Sree Subha Swetha Films...</td>\n",
       "      <td>India</td>\n",
       "      <td>['Telugu']</td>\n",
       "    </tr>\n",
       "    <tr>\n",
       "      <th>10002</th>\n",
       "      <td>3 Deewarein</td>\n",
       "      <td>7.8</td>\n",
       "      <td>NaN</td>\n",
       "      <td>August 1, 2003 (India)</td>\n",
       "      <td>NaN</td>\n",
       "      <td>1 hour 55 minutes</td>\n",
       "      <td>['Crime', 'Drama']</td>\n",
       "      <td>['Nagesh Kukunoor']</td>\n",
       "      <td>['Naseeruddin Shah', 'Jackie Shroff', 'Juhi Ch...</td>\n",
       "      <td>['Metalight Productions', 'SIC Productions']</td>\n",
       "      <td>India</td>\n",
       "      <td>['Hindi']</td>\n",
       "    </tr>\n",
       "    <tr>\n",
       "      <th>10003</th>\n",
       "      <td>L Lag Gaye</td>\n",
       "      <td>8.0</td>\n",
       "      <td>NaN</td>\n",
       "      <td>NaN</td>\n",
       "      <td>NaN</td>\n",
       "      <td>NaN</td>\n",
       "      <td>['Comedy']</td>\n",
       "      <td>[]</td>\n",
       "      <td>['Vedika Bhandari', 'Garima Maurya', 'Imran Na...</td>\n",
       "      <td>[]</td>\n",
       "      <td>NaN</td>\n",
       "      <td>['Hindi']</td>\n",
       "    </tr>\n",
       "  </tbody>\n",
       "</table>\n",
       "</div>"
      ],
      "text/plain": [
       "                       Movie Name  IMDb Rating Popularity  \\\n",
       "9999   Simple Agi Ondh Love Story          8.0        NaN   \n",
       "10000         Chhoona Hai Aasmaan          8.7        NaN   \n",
       "10001                      Loafer          5.0        NaN   \n",
       "10002                 3 Deewarein          7.8        NaN   \n",
       "10003                  L Lag Gaye          8.0        NaN   \n",
       "\n",
       "                    Release Date    Box Office             Runtime  \\\n",
       "9999                         NaN           NaN  2 hours 10 minutes   \n",
       "10000   October 15, 2007 (India)           NaN          30 minutes   \n",
       "10001  December 17, 2015 (India)  ₹200,000,000  2 hours 14 minutes   \n",
       "10002     August 1, 2003 (India)           NaN   1 hour 55 minutes   \n",
       "10003                        NaN           NaN                 NaN   \n",
       "\n",
       "                       Genre             Director  \\\n",
       "9999   ['Comedy', 'Romance']             ['Suni']   \n",
       "10000    ['Action', 'Drama']                   []   \n",
       "10001    ['Action', 'Drama']   ['Puri Jagannadh']   \n",
       "10002     ['Crime', 'Drama']  ['Nagesh Kukunoor']   \n",
       "10003             ['Comedy']                   []   \n",
       "\n",
       "                                                    Cast  \\\n",
       "9999   ['Rakshit Shetty', 'Shwetha Srivatsav', 'Srina...   \n",
       "10000  ['Janvi Chheda', 'Vivan Bhatena', 'Vaani Sharma']   \n",
       "10001           ['Varun Tej', 'Disha Patani', 'Revathi']   \n",
       "10002  ['Naseeruddin Shah', 'Jackie Shroff', 'Juhi Ch...   \n",
       "10003  ['Vedika Bhandari', 'Garima Maurya', 'Imran Na...   \n",
       "\n",
       "                                      Production Company Country     Language  \n",
       "9999                                                  []     NaN  ['Kannada']  \n",
       "10000                                                 []   India    ['Hindi']  \n",
       "10001  ['CK Entertainments', 'Sree Subha Swetha Films...   India   ['Telugu']  \n",
       "10002       ['Metalight Productions', 'SIC Productions']   India    ['Hindi']  \n",
       "10003                                                 []     NaN    ['Hindi']  "
      ]
     },
     "execution_count": 103,
     "metadata": {},
     "output_type": "execute_result"
    }
   ],
   "source": [
    "df.tail()"
   ]
  },
  {
   "cell_type": "code",
   "execution_count": 104,
   "metadata": {},
   "outputs": [
    {
     "name": "stdout",
     "output_type": "stream",
     "text": [
      "<class 'pandas.core.frame.DataFrame'>\n",
      "RangeIndex: 10004 entries, 0 to 10003\n",
      "Data columns (total 12 columns):\n",
      " #   Column              Non-Null Count  Dtype  \n",
      "---  ------              --------------  -----  \n",
      " 0   Movie Name          9920 non-null   object \n",
      " 1   IMDb Rating         8671 non-null   float64\n",
      " 2   Popularity          187 non-null    object \n",
      " 3   Release Date        6249 non-null   object \n",
      " 4   Box Office          2570 non-null   object \n",
      " 5   Runtime             7699 non-null   object \n",
      " 6   Genre               10004 non-null  object \n",
      " 7   Director            10004 non-null  object \n",
      " 8   Cast                10004 non-null  object \n",
      " 9   Production Company  10004 non-null  object \n",
      " 10  Country             5998 non-null   object \n",
      " 11  Language            10004 non-null  object \n",
      "dtypes: float64(1), object(11)\n",
      "memory usage: 938.0+ KB\n"
     ]
    }
   ],
   "source": [
    "df.info()"
   ]
  },
  {
   "cell_type": "code",
   "execution_count": 105,
   "metadata": {},
   "outputs": [
    {
     "name": "stdout",
     "output_type": "stream",
     "text": [
      "Type of Movie Name is object\n",
      "Type of IMDb Rating is float64\n",
      "Type of Popularity is object\n",
      "Type of Release Date is object\n",
      "Type of Box Office is object\n",
      "Type of Runtime is object\n",
      "Type of Genre is object\n",
      "Type of Director is object\n",
      "Type of Cast is object\n",
      "Type of Production Company is object\n",
      "Type of Country is object\n",
      "Type of Language is object\n"
     ]
    }
   ],
   "source": [
    "for col in df.columns:\n",
    "    print(f'Type of {col} is {df[col].dtype}')"
   ]
  },
  {
   "cell_type": "code",
   "execution_count": 106,
   "metadata": {},
   "outputs": [
    {
     "name": "stdout",
     "output_type": "stream",
     "text": [
      "NaN values in Movie Name is 84 (0.84%)\n",
      "NaN values in IMDb Rating is 1333 (13.32%)\n",
      "NaN values in Popularity is 9817 (98.13%)\n",
      "NaN values in Release Date is 3755 (37.53%)\n",
      "NaN values in Box Office is 7434 (74.31%)\n",
      "NaN values in Runtime is 2305 (23.04%)\n",
      "Empty values in Genre is 337 (3.37%)\n",
      "Empty values in Director is 2287 (22.86%)\n",
      "Empty values in Cast is 818 (8.18%)\n",
      "Empty values in Production Company is 6581 (65.78%)\n",
      "NaN values in Country is 4006 (40.04%)\n",
      "Empty values in Language is 284 (2.84%)\n"
     ]
    }
   ],
   "source": [
    "for col in df.columns:\n",
    "    if(col in ['Genre', 'Director', 'Cast', 'Production Company', 'Language']):\n",
    "        print(f\"Empty values in {col} is {df[col].apply(lambda x: x=='[]').sum()} ({df[col].apply(lambda x: x=='[]').sum()/df.shape[0]*100:.2f}%)\")\n",
    "    else: \n",
    "        print(f'NaN values in {col} is {df[col].isna().sum()} ({df[col].isna().sum()/df.shape[0]*100:.2f}%)')"
   ]
  },
  {
   "cell_type": "markdown",
   "metadata": {},
   "source": [
    "## Analyzing the IMDb Rating Column"
   ]
  },
  {
   "cell_type": "code",
   "execution_count": 107,
   "metadata": {},
   "outputs": [
    {
     "data": {
      "text/html": [
       "<div>\n",
       "<style scoped>\n",
       "    .dataframe tbody tr th:only-of-type {\n",
       "        vertical-align: middle;\n",
       "    }\n",
       "\n",
       "    .dataframe tbody tr th {\n",
       "        vertical-align: top;\n",
       "    }\n",
       "\n",
       "    .dataframe thead th {\n",
       "        text-align: right;\n",
       "    }\n",
       "</style>\n",
       "<table border=\"1\" class=\"dataframe\">\n",
       "  <thead>\n",
       "    <tr style=\"text-align: right;\">\n",
       "      <th></th>\n",
       "      <th>count</th>\n",
       "      <th>mean</th>\n",
       "      <th>std</th>\n",
       "      <th>min</th>\n",
       "      <th>25%</th>\n",
       "      <th>50%</th>\n",
       "      <th>75%</th>\n",
       "      <th>max</th>\n",
       "    </tr>\n",
       "  </thead>\n",
       "  <tbody>\n",
       "    <tr>\n",
       "      <th>IMDb Rating</th>\n",
       "      <td>8671.0</td>\n",
       "      <td>6.608972</td>\n",
       "      <td>1.489746</td>\n",
       "      <td>1.0</td>\n",
       "      <td>5.6</td>\n",
       "      <td>6.8</td>\n",
       "      <td>7.7</td>\n",
       "      <td>9.9</td>\n",
       "    </tr>\n",
       "  </tbody>\n",
       "</table>\n",
       "</div>"
      ],
      "text/plain": [
       "              count      mean       std  min  25%  50%  75%  max\n",
       "IMDb Rating  8671.0  6.608972  1.489746  1.0  5.6  6.8  7.7  9.9"
      ]
     },
     "execution_count": 107,
     "metadata": {},
     "output_type": "execute_result"
    }
   ],
   "source": [
    "df.describe().T"
   ]
  },
  {
   "cell_type": "code",
   "execution_count": 108,
   "metadata": {},
   "outputs": [
    {
     "name": "stderr",
     "output_type": "stream",
     "text": [
      "C:\\ProgramData\\Anaconda3\\lib\\site-packages\\seaborn\\_decorators.py:36: FutureWarning: Pass the following variable as a keyword arg: x. From version 0.12, the only valid positional argument will be `data`, and passing other arguments without an explicit keyword will result in an error or misinterpretation.\n",
      "  warnings.warn(\n"
     ]
    },
    {
     "data": {
      "image/png": "[encoded data removed]",
      "text/plain": [
       "<Figure size 720x432 with 1 Axes>"
      ]
     },
     "metadata": {
      "needs_background": "light"
     },
     "output_type": "display_data"
    }
   ],
   "source": [
    "# Plot a count plot for the 'Rating' column\n",
    "plt.figure(figsize=(10, 6))\n",
    "sns.countplot(df['IMDb Rating'])\n",
    "plt.title('Count plot for Rating')\n",
    "plt.show()\n"
   ]
  },
  {
   "cell_type": "code",
   "execution_count": 109,
   "metadata": {},
   "outputs": [
    {
     "name": "stderr",
     "output_type": "stream",
     "text": [
      "C:\\ProgramData\\Anaconda3\\lib\\site-packages\\seaborn\\distributions.py:2619: FutureWarning: `distplot` is a deprecated function and will be removed in a future version. Please adapt your code to use either `displot` (a figure-level function with similar flexibility) or `kdeplot` (an axes-level function for kernel density plots).\n",
      "  warnings.warn(msg, FutureWarning)\n"
     ]
    },
    {
     "data": {
      "image/png": "[encoded data removed]",
      "text/plain": [
       "<Figure size 432x288 with 1 Axes>"
      ]
     },
     "metadata": {
      "needs_background": "light"
     },
     "output_type": "display_data"
    }
   ],
   "source": [
    "sns.distplot(a=df['IMDb Rating'],hist=False, kde_kws={\"shade\": True})\n",
    "plt.show()"
   ]
  },
  {
   "cell_type": "markdown",
   "metadata": {},
   "source": [
    "### Looking at dependecy of IMDb Rating on other columns"
   ]
  },
  {
   "cell_type": "code",
   "execution_count": 110,
   "metadata": {},
   "outputs": [
    {
     "name": "stderr",
     "output_type": "stream",
     "text": [
      "C:\\Users\\LENOVO\\AppData\\Local\\Temp/ipykernel_30080/3062774426.py:2: SettingWithCopyWarning: \n",
      "A value is trying to be set on a copy of a slice from a DataFrame.\n",
      "Try using .loc[row_indexer,col_indexer] = value instead\n",
      "\n",
      "See the caveats in the documentation: https://pandas.pydata.org/pandas-docs/stable/user_guide/indexing.html#returning-a-view-versus-a-copy\n",
      "  mydf['Box Office'] = mydf['Box Office'].apply(lambda x: x.replace('$', '').replace(',', '').replace('₹', '')).astype(int)\n",
      "C:\\Users\\LENOVO\\AppData\\Local\\Temp/ipykernel_30080/3062774426.py:3: SettingWithCopyWarning: \n",
      "A value is trying to be set on a copy of a slice from a DataFrame.\n",
      "Try using .loc[row_indexer,col_indexer] = value instead\n",
      "\n",
      "See the caveats in the documentation: https://pandas.pydata.org/pandas-docs/stable/user_guide/indexing.html#returning-a-view-versus-a-copy\n",
      "  mydf['Box Office'] = mydf['Box Office'].apply(lambda x: x/1000000)\n"
     ]
    }
   ],
   "source": [
    "mydf = df[df['Box Office'].isna() == False]\n",
    "mydf['Box Office'] = mydf['Box Office'].apply(lambda x: x.replace('$', '').replace(',', '').replace('₹', '')).astype(int)\n",
    "mydf['Box Office'] = mydf['Box Office'].apply(lambda x: x/1000000)"
   ]
  },
  {
   "cell_type": "code",
   "execution_count": 111,
   "metadata": {},
   "outputs": [
    {
     "name": "stdout",
     "output_type": "stream",
     "text": [
      "             Box Office  IMDb Rating\n",
      "Box Office     1.000000     0.090164\n",
      "IMDb Rating    0.090164     1.000000\n"
     ]
    }
   ],
   "source": [
    "#Check for correlation between Box Office and IMDb Rating\n",
    "print(mydf[['Box Office', 'IMDb Rating']].corr())\n",
    "#Very low correlation"
   ]
  },
  {
   "cell_type": "markdown",
   "metadata": {},
   "source": [
    "### Analysis of the Release Date Column"
   ]
  },
  {
   "cell_type": "code",
   "execution_count": 112,
   "metadata": {},
   "outputs": [
    {
     "name": "stdout",
     "output_type": "stream",
     "text": [
      "2     August 26, 2022 (India)\n",
      "4    November 9, 2007 (India)\n",
      "5    February 9, 2024 (India)\n",
      "6        July 8, 1983 (India)\n",
      "7     October 8, 2004 (India)\n",
      "Name: Release Date, dtype: object\n"
     ]
    }
   ],
   "source": [
    "mydf = df[df['Release Date'].isna() == False]\n",
    "print(mydf['Release Date'].head(5))"
   ]
  },
  {
   "cell_type": "code",
   "execution_count": 113,
   "metadata": {},
   "outputs": [
    {
     "name": "stdout",
     "output_type": "stream",
     "text": [
      "['India' 'Australia' 'South Africa' 'United States' 'Germany' 'Kuwait'\n",
      " 'Canada' 'Sweden' 'Italy' 'Brazil' 'United Arab Emirates' 'Singapore'\n",
      " 'Netherlands' 'United Kingdom' 'Denmark' 'Thailand' 'Kazakhstan'\n",
      " 'Ireland' 'France' 'Ukraine' 'Greece' 'China' 'Vietnam' 'Norway'\n",
      " 'Pakistan' 'Belgium' 'Russia' 'Philippines' 'Portugal' 'Israel'\n",
      " 'Switzerland' 'South Korea' 'Poland' 'Bahamas' 'Spain' 'Serbia' 'Mexico'\n",
      " 'Georgia' 'Egypt' 'Turkey' 'Malaysia' 'Argentina' 'Indonesia']\n"
     ]
    }
   ],
   "source": [
    "#Checking for all the countries release date we have\n",
    "print(mydf['Release Date'].apply(lambda x: x.split('(')[1].split(')')[0]).unique())"
   ]
  },
  {
   "cell_type": "code",
   "execution_count": 114,
   "metadata": {},
   "outputs": [
    {
     "name": "stdout",
     "output_type": "stream",
     "text": [
      "2         2022 \n",
      "4         2007 \n",
      "5         2024 \n",
      "6         1983 \n",
      "7         2004 \n",
      "          ...  \n",
      "9996      2023 \n",
      "9998      2020 \n",
      "10000     2007 \n",
      "10001     2015 \n",
      "10002     2003 \n",
      "Name: Release Date, Length: 6249, dtype: object\n"
     ]
    }
   ],
   "source": [
    "years = mydf['Release Date'].apply(lambda x: x.split('(')[0]).apply(lambda x: x.split()[-1] if len(x.split(','))==1 else x.split(',')[1])\n",
    "print(years)"
   ]
  },
  {
   "cell_type": "code",
   "execution_count": 115,
   "metadata": {},
   "outputs": [
    {
     "name": "stderr",
     "output_type": "stream",
     "text": [
      "C:\\ProgramData\\Anaconda3\\lib\\site-packages\\seaborn\\_decorators.py:36: FutureWarning: Pass the following variable as a keyword arg: x. From version 0.12, the only valid positional argument will be `data`, and passing other arguments without an explicit keyword will result in an error or misinterpretation.\n",
      "  warnings.warn(\n"
     ]
    },
    {
     "data": {
      "image/png": "[encoded data removed]",
      "text/plain": [
       "<Figure size 2880x1440 with 1 Axes>"
      ]
     },
     "metadata": {
      "needs_background": "light"
     },
     "output_type": "display_data"
    }
   ],
   "source": [
    "years  = years.apply(lambda x: int(x))\n",
    "years = years[years > 1980]\n",
    "plt.figure(figsize=(40, 20))\n",
    "sns.countplot(years)\n",
    "plt.title('Count plot for years')\n",
    "plt.show()"
   ]
  },
  {
   "cell_type": "code",
   "execution_count": 116,
   "metadata": {},
   "outputs": [
    {
     "data": {
      "text/plain": [
       "['Bengali',\n",
       " 'Hindi',\n",
       " 'Tamil',\n",
       " 'English',\n",
       " 'Punjabi',\n",
       " 'Spanish',\n",
       " 'Telugu',\n",
       " 'Kannada',\n",
       " 'Malayalam',\n",
       " 'Marathi',\n",
       " 'Gujarati',\n",
       " 'Indonesian',\n",
       " 'Italian',\n",
       " 'Cantonese',\n",
       " 'Russian',\n",
       " 'Urdu',\n",
       " 'Bhojpuri',\n",
       " 'North American Indian',\n",
       " 'Portuguese',\n",
       " 'Haryanvi',\n",
       " 'Chinese',\n",
       " 'Rajasthani',\n",
       " 'Oriya',\n",
       " 'French',\n",
       " 'German',\n",
       " 'Japanese',\n",
       " 'Arabic',\n",
       " 'Parsee',\n",
       " 'Mandarin',\n",
       " 'Korean',\n",
       " 'Turkish',\n",
       " 'Maithili',\n",
       " 'Pashtu',\n",
       " 'Assamese',\n",
       " 'Nepali',\n",
       " 'Apache languages',\n",
       " 'Indian Sign Language',\n",
       " 'Tulu',\n",
       " 'Swahili',\n",
       " 'Min Nan',\n",
       " 'Icelandic',\n",
       " 'Ukrainian',\n",
       " 'Kashmiri',\n",
       " 'Persian',\n",
       " 'Romanian',\n",
       " 'Latin',\n",
       " 'Sanskrit',\n",
       " 'Awadhi',\n",
       " 'Thai',\n",
       " 'Sinhala',\n",
       " 'Tibetan',\n",
       " 'Vietnamese',\n",
       " 'Polish',\n",
       " 'Mongolian',\n",
       " 'None',\n",
       " 'Luxembourgish',\n",
       " 'Swedish',\n",
       " 'Armenian',\n",
       " 'Abkhazian',\n",
       " 'Dutch',\n",
       " 'Chhattisgarhi',\n",
       " 'Ladakhi',\n",
       " 'Kikuyu',\n",
       " 'Akan',\n",
       " 'Nagpuri',\n",
       " 'Bodo',\n",
       " 'Dari',\n",
       " 'Afrikaans',\n",
       " 'Hebrew',\n",
       " 'Burmese',\n",
       " 'Sindhi',\n",
       " 'Filipino',\n",
       " 'Tagalog',\n",
       " 'Irula',\n",
       " 'Konkani',\n",
       " 'Montagnais',\n",
       " 'Chakma',\n",
       " 'Sumerian',\n",
       " 'Crimean Tatar',\n",
       " 'Santali',\n",
       " 'Greek',\n",
       " 'Bable',\n",
       " 'Bonda',\n",
       " 'Welsh',\n",
       " 'Mari',\n",
       " 'Himachali',\n",
       " 'Rhaetian',\n",
       " 'Hmong',\n",
       " 'Manipuri']"
      ]
     },
     "execution_count": 116,
     "metadata": {},
     "output_type": "execute_result"
    }
   ],
   "source": [
    "# unique languages\n",
    "unique_languages = []\n",
    "for rows in df['Language']:\n",
    "    row=eval(rows)\n",
    "    for i in row:\n",
    "        if i not in unique_languages:\n",
    "            unique_languages.append(i)\n",
    "\n",
    "unique_languages"
   ]
  },
  {
   "cell_type": "code",
   "execution_count": 117,
   "metadata": {},
   "outputs": [
    {
     "data": {
      "text/html": [
       "<div>\n",
       "<style scoped>\n",
       "    .dataframe tbody tr th:only-of-type {\n",
       "        vertical-align: middle;\n",
       "    }\n",
       "\n",
       "    .dataframe tbody tr th {\n",
       "        vertical-align: top;\n",
       "    }\n",
       "\n",
       "    .dataframe thead th {\n",
       "        text-align: right;\n",
       "    }\n",
       "</style>\n",
       "<table border=\"1\" class=\"dataframe\">\n",
       "  <thead>\n",
       "    <tr style=\"text-align: right;\">\n",
       "      <th></th>\n",
       "      <th>Language</th>\n",
       "      <th>Count</th>\n",
       "    </tr>\n",
       "  </thead>\n",
       "  <tbody>\n",
       "    <tr>\n",
       "      <th>0</th>\n",
       "      <td>Bengali</td>\n",
       "      <td>435</td>\n",
       "    </tr>\n",
       "    <tr>\n",
       "      <th>1</th>\n",
       "      <td>Hindi</td>\n",
       "      <td>5267</td>\n",
       "    </tr>\n",
       "    <tr>\n",
       "      <th>2</th>\n",
       "      <td>Tamil</td>\n",
       "      <td>1455</td>\n",
       "    </tr>\n",
       "    <tr>\n",
       "      <th>3</th>\n",
       "      <td>English</td>\n",
       "      <td>849</td>\n",
       "    </tr>\n",
       "    <tr>\n",
       "      <th>4</th>\n",
       "      <td>Punjabi</td>\n",
       "      <td>347</td>\n",
       "    </tr>\n",
       "    <tr>\n",
       "      <th>...</th>\n",
       "      <td>...</td>\n",
       "      <td>...</td>\n",
       "    </tr>\n",
       "    <tr>\n",
       "      <th>84</th>\n",
       "      <td>Mari</td>\n",
       "      <td>1</td>\n",
       "    </tr>\n",
       "    <tr>\n",
       "      <th>85</th>\n",
       "      <td>Himachali</td>\n",
       "      <td>1</td>\n",
       "    </tr>\n",
       "    <tr>\n",
       "      <th>86</th>\n",
       "      <td>Rhaetian</td>\n",
       "      <td>1</td>\n",
       "    </tr>\n",
       "    <tr>\n",
       "      <th>87</th>\n",
       "      <td>Hmong</td>\n",
       "      <td>1</td>\n",
       "    </tr>\n",
       "    <tr>\n",
       "      <th>88</th>\n",
       "      <td>Manipuri</td>\n",
       "      <td>1</td>\n",
       "    </tr>\n",
       "  </tbody>\n",
       "</table>\n",
       "<p>89 rows × 2 columns</p>\n",
       "</div>"
      ],
      "text/plain": [
       "     Language  Count\n",
       "0     Bengali    435\n",
       "1       Hindi   5267\n",
       "2       Tamil   1455\n",
       "3     English    849\n",
       "4     Punjabi    347\n",
       "..        ...    ...\n",
       "84       Mari      1\n",
       "85  Himachali      1\n",
       "86   Rhaetian      1\n",
       "87      Hmong      1\n",
       "88   Manipuri      1\n",
       "\n",
       "[89 rows x 2 columns]"
      ]
     },
     "execution_count": 117,
     "metadata": {},
     "output_type": "execute_result"
    }
   ],
   "source": [
    "language_count = {'language':[], 'count':[] }\n",
    "for language in unique_languages:\n",
    "    language_count['language'].append(language)\n",
    "    language_count['count'].append(0)\n",
    "language_count\n",
    "for rows in df['Language']:\n",
    "    row=eval(rows)\n",
    "    for i in row:\n",
    "        language_count['count'][unique_languages.index(i)]+=1\n",
    "language_df=pd.DataFrame({'Language':language_count['language'], 'Count':language_count['count']})\n",
    "language_df"
   ]
  },
  {
   "cell_type": "code",
   "execution_count": 118,
   "metadata": {},
   "outputs": [
    {
     "data": {
      "image/png": "[encoded data removed]",
      "text/plain": [
       "<Figure size 576x576 with 1 Axes>"
      ]
     },
     "metadata": {},
     "output_type": "display_data"
    }
   ],
   "source": [
    "plt.figure(figsize=(8, 8))\n",
    "threshold = 1\n",
    "plt.pie(language_df['Count'], labels=language_df['Language'],autopct=lambda pct: f'{pct:.1f}%' if pct > threshold else '', startangle=140)\n",
    "plt.title('Pie chart for languages')\n",
    "plt.show()"
   ]
  },
  {
   "cell_type": "code",
   "execution_count": 119,
   "metadata": {},
   "outputs": [
    {
     "data": {
      "text/plain": [
       "['Short',\n",
       " 'Drama',\n",
       " 'Horror',\n",
       " 'Comedy',\n",
       " 'Crime',\n",
       " 'Mystery',\n",
       " 'Romance',\n",
       " 'Musical',\n",
       " 'Action',\n",
       " 'Thriller',\n",
       " 'Fantasy',\n",
       " 'Sport',\n",
       " 'Adventure',\n",
       " 'History',\n",
       " 'Biography',\n",
       " 'Family',\n",
       " 'War',\n",
       " 'Documentary',\n",
       " 'Animation',\n",
       " 'Sci-Fi',\n",
       " 'Reality-TV',\n",
       " 'Music',\n",
       " 'Talk-Show',\n",
       " 'News',\n",
       " 'Game-Show',\n",
       " 'Western']"
      ]
     },
     "execution_count": 119,
     "metadata": {},
     "output_type": "execute_result"
    }
   ],
   "source": [
    "unique_genre = []\n",
    "for rows in df['Genre']:\n",
    "    row=eval(rows)\n",
    "    for i in row:\n",
    "        if i not in unique_genre:\n",
    "            unique_genre.append(i)\n",
    "\n",
    "unique_genre"
   ]
  },
  {
   "cell_type": "code",
   "execution_count": 120,
   "metadata": {},
   "outputs": [
    {
     "data": {
      "text/html": [
       "<div>\n",
       "<style scoped>\n",
       "    .dataframe tbody tr th:only-of-type {\n",
       "        vertical-align: middle;\n",
       "    }\n",
       "\n",
       "    .dataframe tbody tr th {\n",
       "        vertical-align: top;\n",
       "    }\n",
       "\n",
       "    .dataframe thead th {\n",
       "        text-align: right;\n",
       "    }\n",
       "</style>\n",
       "<table border=\"1\" class=\"dataframe\">\n",
       "  <thead>\n",
       "    <tr style=\"text-align: right;\">\n",
       "      <th></th>\n",
       "      <th>Genre</th>\n",
       "      <th>Count</th>\n",
       "    </tr>\n",
       "  </thead>\n",
       "  <tbody>\n",
       "    <tr>\n",
       "      <th>0</th>\n",
       "      <td>Short</td>\n",
       "      <td>237</td>\n",
       "    </tr>\n",
       "    <tr>\n",
       "      <th>1</th>\n",
       "      <td>Drama</td>\n",
       "      <td>5803</td>\n",
       "    </tr>\n",
       "    <tr>\n",
       "      <th>2</th>\n",
       "      <td>Horror</td>\n",
       "      <td>403</td>\n",
       "    </tr>\n",
       "    <tr>\n",
       "      <th>3</th>\n",
       "      <td>Comedy</td>\n",
       "      <td>2448</td>\n",
       "    </tr>\n",
       "    <tr>\n",
       "      <th>4</th>\n",
       "      <td>Crime</td>\n",
       "      <td>1313</td>\n",
       "    </tr>\n",
       "    <tr>\n",
       "      <th>5</th>\n",
       "      <td>Mystery</td>\n",
       "      <td>486</td>\n",
       "    </tr>\n",
       "    <tr>\n",
       "      <th>6</th>\n",
       "      <td>Romance</td>\n",
       "      <td>2105</td>\n",
       "    </tr>\n",
       "    <tr>\n",
       "      <th>7</th>\n",
       "      <td>Musical</td>\n",
       "      <td>348</td>\n",
       "    </tr>\n",
       "    <tr>\n",
       "      <th>8</th>\n",
       "      <td>Action</td>\n",
       "      <td>2433</td>\n",
       "    </tr>\n",
       "    <tr>\n",
       "      <th>9</th>\n",
       "      <td>Thriller</td>\n",
       "      <td>1567</td>\n",
       "    </tr>\n",
       "    <tr>\n",
       "      <th>10</th>\n",
       "      <td>Fantasy</td>\n",
       "      <td>286</td>\n",
       "    </tr>\n",
       "    <tr>\n",
       "      <th>11</th>\n",
       "      <td>Sport</td>\n",
       "      <td>97</td>\n",
       "    </tr>\n",
       "    <tr>\n",
       "      <th>12</th>\n",
       "      <td>Adventure</td>\n",
       "      <td>438</td>\n",
       "    </tr>\n",
       "    <tr>\n",
       "      <th>13</th>\n",
       "      <td>History</td>\n",
       "      <td>195</td>\n",
       "    </tr>\n",
       "    <tr>\n",
       "      <th>14</th>\n",
       "      <td>Biography</td>\n",
       "      <td>207</td>\n",
       "    </tr>\n",
       "    <tr>\n",
       "      <th>15</th>\n",
       "      <td>Family</td>\n",
       "      <td>494</td>\n",
       "    </tr>\n",
       "    <tr>\n",
       "      <th>16</th>\n",
       "      <td>War</td>\n",
       "      <td>41</td>\n",
       "    </tr>\n",
       "    <tr>\n",
       "      <th>17</th>\n",
       "      <td>Documentary</td>\n",
       "      <td>105</td>\n",
       "    </tr>\n",
       "    <tr>\n",
       "      <th>18</th>\n",
       "      <td>Animation</td>\n",
       "      <td>163</td>\n",
       "    </tr>\n",
       "    <tr>\n",
       "      <th>19</th>\n",
       "      <td>Sci-Fi</td>\n",
       "      <td>91</td>\n",
       "    </tr>\n",
       "    <tr>\n",
       "      <th>20</th>\n",
       "      <td>Reality-TV</td>\n",
       "      <td>47</td>\n",
       "    </tr>\n",
       "    <tr>\n",
       "      <th>21</th>\n",
       "      <td>Music</td>\n",
       "      <td>85</td>\n",
       "    </tr>\n",
       "    <tr>\n",
       "      <th>22</th>\n",
       "      <td>Talk-Show</td>\n",
       "      <td>12</td>\n",
       "    </tr>\n",
       "    <tr>\n",
       "      <th>23</th>\n",
       "      <td>News</td>\n",
       "      <td>9</td>\n",
       "    </tr>\n",
       "    <tr>\n",
       "      <th>24</th>\n",
       "      <td>Game-Show</td>\n",
       "      <td>7</td>\n",
       "    </tr>\n",
       "    <tr>\n",
       "      <th>25</th>\n",
       "      <td>Western</td>\n",
       "      <td>1</td>\n",
       "    </tr>\n",
       "  </tbody>\n",
       "</table>\n",
       "</div>"
      ],
      "text/plain": [
       "          Genre  Count\n",
       "0         Short    237\n",
       "1         Drama   5803\n",
       "2        Horror    403\n",
       "3        Comedy   2448\n",
       "4         Crime   1313\n",
       "5       Mystery    486\n",
       "6       Romance   2105\n",
       "7       Musical    348\n",
       "8        Action   2433\n",
       "9      Thriller   1567\n",
       "10      Fantasy    286\n",
       "11        Sport     97\n",
       "12    Adventure    438\n",
       "13      History    195\n",
       "14    Biography    207\n",
       "15       Family    494\n",
       "16          War     41\n",
       "17  Documentary    105\n",
       "18    Animation    163\n",
       "19       Sci-Fi     91\n",
       "20   Reality-TV     47\n",
       "21        Music     85\n",
       "22    Talk-Show     12\n",
       "23         News      9\n",
       "24    Game-Show      7\n",
       "25      Western      1"
      ]
     },
     "execution_count": 120,
     "metadata": {},
     "output_type": "execute_result"
    }
   ],
   "source": [
    "genre_count = {'genre':[], 'count':[] }\n",
    "for genre in unique_genre:\n",
    "    genre_count['genre'].append(genre)\n",
    "    genre_count['count'].append(0)\n",
    "for rows in df['Genre']:\n",
    "    row=eval(rows)\n",
    "    for i in row:\n",
    "        genre_count['count'][unique_genre.index(i)]+=1\n",
    "genre_df=pd.DataFrame({'Genre':genre_count['genre'], 'Count':genre_count['count']})\n",
    "genre_df"
   ]
  },
  {
   "cell_type": "code",
   "execution_count": 121,
   "metadata": {},
   "outputs": [
    {
     "data": {
      "image/png": "[encoded data removed]",
      "text/plain": [
       "<Figure size 576x576 with 1 Axes>"
      ]
     },
     "metadata": {},
     "output_type": "display_data"
    }
   ],
   "source": [
    "plt.figure(figsize=(8, 8))\n",
    "threshold = 2\n",
    "plt.pie(genre_df['Count'], labels=genre_df['Genre'],autopct=lambda pct: f'{pct:.1f}%' if pct > threshold else '', startangle=140)\n",
    "plt.title('Pie chart for Genre')\n",
    "plt.show()"
   ]
  },
  {
   "cell_type": "code",
   "execution_count": 122,
   "metadata": {},
   "outputs": [
    {
     "data": {
      "text/html": [
       "<div>\n",
       "<style scoped>\n",
       "    .dataframe tbody tr th:only-of-type {\n",
       "        vertical-align: middle;\n",
       "    }\n",
       "\n",
       "    .dataframe tbody tr th {\n",
       "        vertical-align: top;\n",
       "    }\n",
       "\n",
       "    .dataframe thead th {\n",
       "        text-align: right;\n",
       "    }\n",
       "</style>\n",
       "<table border=\"1\" class=\"dataframe\">\n",
       "  <thead>\n",
       "    <tr style=\"text-align: right;\">\n",
       "      <th></th>\n",
       "      <th>Genre</th>\n",
       "      <th>Language</th>\n",
       "      <th>Rating</th>\n",
       "      <th>Count</th>\n",
       "    </tr>\n",
       "  </thead>\n",
       "  <tbody>\n",
       "    <tr>\n",
       "      <th>1084</th>\n",
       "      <td>Adventure</td>\n",
       "      <td>Bhojpuri</td>\n",
       "      <td>1.8</td>\n",
       "      <td>1</td>\n",
       "    </tr>\n",
       "    <tr>\n",
       "      <th>1098</th>\n",
       "      <td>Adventure</td>\n",
       "      <td>Turkish</td>\n",
       "      <td>2.6</td>\n",
       "      <td>1</td>\n",
       "    </tr>\n",
       "    <tr>\n",
       "      <th>563</th>\n",
       "      <td>Romance</td>\n",
       "      <td>Korean</td>\n",
       "      <td>3.1</td>\n",
       "      <td>1</td>\n",
       "    </tr>\n",
       "    <tr>\n",
       "      <th>278</th>\n",
       "      <td>Comedy</td>\n",
       "      <td>Indonesian</td>\n",
       "      <td>3.1</td>\n",
       "      <td>1</td>\n",
       "    </tr>\n",
       "    <tr>\n",
       "      <th>151</th>\n",
       "      <td>Drama</td>\n",
       "      <td>Kikuyu</td>\n",
       "      <td>3.1</td>\n",
       "      <td>1</td>\n",
       "    </tr>\n",
       "    <tr>\n",
       "      <th>...</th>\n",
       "      <td>...</td>\n",
       "      <td>...</td>\n",
       "      <td>...</td>\n",
       "      <td>...</td>\n",
       "    </tr>\n",
       "    <tr>\n",
       "      <th>2309</th>\n",
       "      <td>Western</td>\n",
       "      <td>Mari</td>\n",
       "      <td>NaN</td>\n",
       "      <td>0</td>\n",
       "    </tr>\n",
       "    <tr>\n",
       "      <th>2310</th>\n",
       "      <td>Western</td>\n",
       "      <td>Himachali</td>\n",
       "      <td>NaN</td>\n",
       "      <td>0</td>\n",
       "    </tr>\n",
       "    <tr>\n",
       "      <th>2311</th>\n",
       "      <td>Western</td>\n",
       "      <td>Rhaetian</td>\n",
       "      <td>NaN</td>\n",
       "      <td>0</td>\n",
       "    </tr>\n",
       "    <tr>\n",
       "      <th>2312</th>\n",
       "      <td>Western</td>\n",
       "      <td>Hmong</td>\n",
       "      <td>NaN</td>\n",
       "      <td>0</td>\n",
       "    </tr>\n",
       "    <tr>\n",
       "      <th>2313</th>\n",
       "      <td>Western</td>\n",
       "      <td>Manipuri</td>\n",
       "      <td>NaN</td>\n",
       "      <td>0</td>\n",
       "    </tr>\n",
       "  </tbody>\n",
       "</table>\n",
       "<p>2314 rows × 4 columns</p>\n",
       "</div>"
      ],
      "text/plain": [
       "          Genre    Language  Rating  Count\n",
       "1084  Adventure    Bhojpuri     1.8      1\n",
       "1098  Adventure     Turkish     2.6      1\n",
       "563     Romance      Korean     3.1      1\n",
       "278      Comedy  Indonesian     3.1      1\n",
       "151       Drama      Kikuyu     3.1      1\n",
       "...         ...         ...     ...    ...\n",
       "2309    Western        Mari     NaN      0\n",
       "2310    Western   Himachali     NaN      0\n",
       "2311    Western    Rhaetian     NaN      0\n",
       "2312    Western       Hmong     NaN      0\n",
       "2313    Western    Manipuri     NaN      0\n",
       "\n",
       "[2314 rows x 4 columns]"
      ]
     },
     "execution_count": 122,
     "metadata": {},
     "output_type": "execute_result"
    }
   ],
   "source": [
    "avg_rating={'genre':[], 'language':[], 'rating_sum':[], 'count':[],'rating':[]}\n",
    "\n",
    "for i in unique_genre:\n",
    "    for j in unique_languages:\n",
    "        avg_rating['genre'].append(i)\n",
    "        avg_rating['language'].append(j)\n",
    "        avg_rating['rating_sum'].append(0)\n",
    "        avg_rating['count'].append(0)\n",
    "        avg_rating['rating'].append(0)\n",
    "for index, rows in df.iterrows():\n",
    "    for i in eval(rows['Genre']):\n",
    "        for j in eval(rows['Language']):\n",
    "            if rows['IMDb Rating'] != 'NaN':\n",
    "                avg_rating['rating_sum'][(unique_genre.index(i))*len(unique_languages)+unique_languages.index(j)]+=rows['IMDb Rating']\n",
    "                avg_rating['count'][(unique_genre.index(i))*len(unique_languages)+unique_languages.index(j)]+=1\n",
    "\n",
    "for i in unique_genre:\n",
    "    for j in unique_languages:\n",
    "        if avg_rating['count'][(unique_genre.index(i))*len(unique_languages)+unique_languages.index(j)]!=0:\n",
    "            avg_rating['rating'][(unique_genre.index(i))*len(unique_languages)+unique_languages.index(j)]=avg_rating['rating_sum'][(unique_genre.index(i))*len(unique_languages)+unique_languages.index(j)]/avg_rating['count'][(unique_genre.index(i))*len(unique_languages)+unique_languages.index(j)]\n",
    "        else:\n",
    "            avg_rating['rating'][(unique_genre.index(i))*len(unique_languages)+unique_languages.index(j)]=np.nan\n",
    "avg_rating_df=pd.DataFrame({'Genre':avg_rating['genre'], 'Language':avg_rating['language'], 'Rating':avg_rating['rating'], 'Count':avg_rating['count']})\n",
    "avg_rating_df.sort_values(by='Rating', ascending=True)\n",
    "\n",
    "\n"
   ]
  },
  {
   "cell_type": "code",
   "execution_count": 123,
   "metadata": {},
   "outputs": [
    {
     "data": {
      "text/html": [
       "<div>\n",
       "<style scoped>\n",
       "    .dataframe tbody tr th:only-of-type {\n",
       "        vertical-align: middle;\n",
       "    }\n",
       "\n",
       "    .dataframe tbody tr th {\n",
       "        vertical-align: top;\n",
       "    }\n",
       "\n",
       "    .dataframe thead th {\n",
       "        text-align: right;\n",
       "    }\n",
       "</style>\n",
       "<table border=\"1\" class=\"dataframe\">\n",
       "  <thead>\n",
       "    <tr style=\"text-align: right;\">\n",
       "      <th></th>\n",
       "      <th>Language</th>\n",
       "      <th>Count</th>\n",
       "    </tr>\n",
       "  </thead>\n",
       "  <tbody>\n",
       "    <tr>\n",
       "      <th>0</th>\n",
       "      <td>Bengali</td>\n",
       "      <td>435</td>\n",
       "    </tr>\n",
       "    <tr>\n",
       "      <th>1</th>\n",
       "      <td>Hindi</td>\n",
       "      <td>5267</td>\n",
       "    </tr>\n",
       "    <tr>\n",
       "      <th>2</th>\n",
       "      <td>Tamil</td>\n",
       "      <td>1455</td>\n",
       "    </tr>\n",
       "    <tr>\n",
       "      <th>3</th>\n",
       "      <td>English</td>\n",
       "      <td>849</td>\n",
       "    </tr>\n",
       "    <tr>\n",
       "      <th>4</th>\n",
       "      <td>Punjabi</td>\n",
       "      <td>347</td>\n",
       "    </tr>\n",
       "    <tr>\n",
       "      <th>5</th>\n",
       "      <td>Spanish</td>\n",
       "      <td>26</td>\n",
       "    </tr>\n",
       "    <tr>\n",
       "      <th>6</th>\n",
       "      <td>Telugu</td>\n",
       "      <td>1341</td>\n",
       "    </tr>\n",
       "    <tr>\n",
       "      <th>7</th>\n",
       "      <td>Kannada</td>\n",
       "      <td>436</td>\n",
       "    </tr>\n",
       "    <tr>\n",
       "      <th>8</th>\n",
       "      <td>Malayalam</td>\n",
       "      <td>977</td>\n",
       "    </tr>\n",
       "    <tr>\n",
       "      <th>9</th>\n",
       "      <td>Marathi</td>\n",
       "      <td>405</td>\n",
       "    </tr>\n",
       "    <tr>\n",
       "      <th>10</th>\n",
       "      <td>Gujarati</td>\n",
       "      <td>101</td>\n",
       "    </tr>\n",
       "    <tr>\n",
       "      <th>11</th>\n",
       "      <td>Indonesian</td>\n",
       "      <td>3</td>\n",
       "    </tr>\n",
       "    <tr>\n",
       "      <th>12</th>\n",
       "      <td>Italian</td>\n",
       "      <td>14</td>\n",
       "    </tr>\n",
       "    <tr>\n",
       "      <th>13</th>\n",
       "      <td>Cantonese</td>\n",
       "      <td>4</td>\n",
       "    </tr>\n",
       "    <tr>\n",
       "      <th>14</th>\n",
       "      <td>Russian</td>\n",
       "      <td>28</td>\n",
       "    </tr>\n",
       "    <tr>\n",
       "      <th>15</th>\n",
       "      <td>Urdu</td>\n",
       "      <td>96</td>\n",
       "    </tr>\n",
       "    <tr>\n",
       "      <th>16</th>\n",
       "      <td>Bhojpuri</td>\n",
       "      <td>28</td>\n",
       "    </tr>\n",
       "    <tr>\n",
       "      <th>17</th>\n",
       "      <td>North American Indian</td>\n",
       "      <td>1</td>\n",
       "    </tr>\n",
       "    <tr>\n",
       "      <th>18</th>\n",
       "      <td>Portuguese</td>\n",
       "      <td>7</td>\n",
       "    </tr>\n",
       "    <tr>\n",
       "      <th>19</th>\n",
       "      <td>Haryanvi</td>\n",
       "      <td>23</td>\n",
       "    </tr>\n",
       "  </tbody>\n",
       "</table>\n",
       "</div>"
      ],
      "text/plain": [
       "                 Language  Count\n",
       "0                 Bengali    435\n",
       "1                   Hindi   5267\n",
       "2                   Tamil   1455\n",
       "3                 English    849\n",
       "4                 Punjabi    347\n",
       "5                 Spanish     26\n",
       "6                  Telugu   1341\n",
       "7                 Kannada    436\n",
       "8               Malayalam    977\n",
       "9                 Marathi    405\n",
       "10               Gujarati    101\n",
       "11             Indonesian      3\n",
       "12                Italian     14\n",
       "13              Cantonese      4\n",
       "14                Russian     28\n",
       "15                   Urdu     96\n",
       "16               Bhojpuri     28\n",
       "17  North American Indian      1\n",
       "18             Portuguese      7\n",
       "19               Haryanvi     23"
      ]
     },
     "execution_count": 123,
     "metadata": {},
     "output_type": "execute_result"
    }
   ],
   "source": [
    "language_df.head(20)"
   ]
  },
  {
   "cell_type": "code",
   "execution_count": 124,
   "metadata": {},
   "outputs": [
    {
     "data": {
      "text/plain": [
       "<matplotlib.collections.PathCollection at 0x2d7e5573940>"
      ]
     },
     "execution_count": 124,
     "metadata": {},
     "output_type": "execute_result"
    },
    {
     "data": {
      "image/png": "[encoded data removed]",
      "text/plain": [
       "<Figure size 720x432 with 1 Axes>"
      ]
     },
     "metadata": {
      "needs_background": "light"
     },
     "output_type": "display_data"
    }
   ],
   "source": [
    "x = []\n",
    "y = []\n",
    "def check_nan(x):\n",
    "    if x[0]!='N' and x[0]!='n':\n",
    "        return False\n",
    "    if x[1]!='A' and x[1]!='a':\n",
    "        return False\n",
    "    if x[2]!='N' and x[2]!='n':\n",
    "        return False\n",
    "    return True \n",
    "for ind in df.head(400).index:\n",
    "    imdb_rating = df['IMDb Rating'][ind]\n",
    "    runtime = df['Runtime'][ind]\n",
    "    \n",
    "    if not (np.isnan(imdb_rating)) and type(runtime)==str:\n",
    "        x.append(runtime)\n",
    "        y.append(imdb_rating)\n",
    "\n",
    "z=[]\n",
    "\n",
    "\n",
    "for i in x:\n",
    "    k=i.split()\n",
    "    if len(k)==2:\n",
    "        z.append(int(k[0]))\n",
    "    else:\n",
    "        z.append(int(k[0])*60+int(k[2]))\n",
    "\n",
    "plt.figure(figsize=(10, 6))\n",
    "plt.scatter(z, y)\n",
    "\n"
   ]
  },
  {
   "cell_type": "code",
   "execution_count": 125,
   "metadata": {},
   "outputs": [
    {
     "data": {
      "text/html": [
       "<div>\n",
       "<style scoped>\n",
       "    .dataframe tbody tr th:only-of-type {\n",
       "        vertical-align: middle;\n",
       "    }\n",
       "\n",
       "    .dataframe tbody tr th {\n",
       "        vertical-align: top;\n",
       "    }\n",
       "\n",
       "    .dataframe thead th {\n",
       "        text-align: right;\n",
       "    }\n",
       "</style>\n",
       "<table border=\"1\" class=\"dataframe\">\n",
       "  <thead>\n",
       "    <tr style=\"text-align: right;\">\n",
       "      <th></th>\n",
       "      <th>Movie Name</th>\n",
       "      <th>IMDb Rating</th>\n",
       "      <th>Popularity</th>\n",
       "      <th>Release Date</th>\n",
       "      <th>Box Office</th>\n",
       "      <th>Runtime</th>\n",
       "      <th>Genre</th>\n",
       "      <th>Director</th>\n",
       "      <th>Cast</th>\n",
       "      <th>Production Company</th>\n",
       "      <th>Country</th>\n",
       "      <th>Language</th>\n",
       "    </tr>\n",
       "  </thead>\n",
       "  <tbody>\n",
       "    <tr>\n",
       "      <th>0</th>\n",
       "      <td>The Kerala Story Bangla</td>\n",
       "      <td>6.5</td>\n",
       "      <td>NaN</td>\n",
       "      <td>NaN</td>\n",
       "      <td>NaN</td>\n",
       "      <td>12 minutes</td>\n",
       "      <td>['Short', 'Drama']</td>\n",
       "      <td>['Satyajit Das']</td>\n",
       "      <td>[]</td>\n",
       "      <td>[]</td>\n",
       "      <td>NaN</td>\n",
       "      <td>['Bengali']</td>\n",
       "    </tr>\n",
       "    <tr>\n",
       "      <th>1</th>\n",
       "      <td>Generation Z</td>\n",
       "      <td>NaN</td>\n",
       "      <td>NaN</td>\n",
       "      <td>NaN</td>\n",
       "      <td>NaN</td>\n",
       "      <td>NaN</td>\n",
       "      <td>['Horror', 'Comedy']</td>\n",
       "      <td>[]</td>\n",
       "      <td>['Chris Reilly', 'Ellora Torchia', 'Viola Pret...</td>\n",
       "      <td>['All3Media International', 'The Forge', 'Zwei...</td>\n",
       "      <td>NaN</td>\n",
       "      <td>[]</td>\n",
       "    </tr>\n",
       "    <tr>\n",
       "      <th>2</th>\n",
       "      <td>Criminal Justice: Adhura Sach</td>\n",
       "      <td>7.7</td>\n",
       "      <td>NaN</td>\n",
       "      <td>August 26, 2022 (India)</td>\n",
       "      <td>NaN</td>\n",
       "      <td>45 minutes</td>\n",
       "      <td>['Crime', 'Drama', 'Mystery']</td>\n",
       "      <td>[]</td>\n",
       "      <td>['Pankaj Tripathi', 'Swastika Mukherjee', 'Pur...</td>\n",
       "      <td>['Applause Entertainment Ltd.', 'BBC Studios']</td>\n",
       "      <td>India</td>\n",
       "      <td>['Hindi']</td>\n",
       "    </tr>\n",
       "    <tr>\n",
       "      <th>3</th>\n",
       "      <td>Madhil Mel Kaadhal</td>\n",
       "      <td>NaN</td>\n",
       "      <td>NaN</td>\n",
       "      <td>NaN</td>\n",
       "      <td>NaN</td>\n",
       "      <td>NaN</td>\n",
       "      <td>['Romance']</td>\n",
       "      <td>['Anjana Ali Khan']</td>\n",
       "      <td>['Mugen Rao', 'Divya Bharathi', 'Sakshi Agarwal']</td>\n",
       "      <td>[]</td>\n",
       "      <td>NaN</td>\n",
       "      <td>['Tamil']</td>\n",
       "    </tr>\n",
       "    <tr>\n",
       "      <th>4</th>\n",
       "      <td>Saawariya</td>\n",
       "      <td>5.2</td>\n",
       "      <td>NaN</td>\n",
       "      <td>November 9, 2007 (India)</td>\n",
       "      <td>$18,525,631</td>\n",
       "      <td>2 hours 22 minutes</td>\n",
       "      <td>['Drama', 'Musical', 'Romance']</td>\n",
       "      <td>['Sanjay Leela Bhansali']</td>\n",
       "      <td>['Ranbir Kapoor', 'Sonam Kapoor', 'Salman Khan']</td>\n",
       "      <td>['SPE Films', 'SLB Films Pvt. Ltd.']</td>\n",
       "      <td>NaN</td>\n",
       "      <td>['Hindi']</td>\n",
       "    </tr>\n",
       "  </tbody>\n",
       "</table>\n",
       "</div>"
      ],
      "text/plain": [
       "                      Movie Name  IMDb Rating Popularity  \\\n",
       "0        The Kerala Story Bangla          6.5        NaN   \n",
       "1                   Generation Z          NaN        NaN   \n",
       "2  Criminal Justice: Adhura Sach          7.7        NaN   \n",
       "3             Madhil Mel Kaadhal          NaN        NaN   \n",
       "4                      Saawariya          5.2        NaN   \n",
       "\n",
       "               Release Date   Box Office             Runtime  \\\n",
       "0                       NaN          NaN          12 minutes   \n",
       "1                       NaN          NaN                 NaN   \n",
       "2   August 26, 2022 (India)          NaN          45 minutes   \n",
       "3                       NaN          NaN                 NaN   \n",
       "4  November 9, 2007 (India)  $18,525,631  2 hours 22 minutes   \n",
       "\n",
       "                             Genre                   Director  \\\n",
       "0               ['Short', 'Drama']           ['Satyajit Das']   \n",
       "1             ['Horror', 'Comedy']                         []   \n",
       "2    ['Crime', 'Drama', 'Mystery']                         []   \n",
       "3                      ['Romance']        ['Anjana Ali Khan']   \n",
       "4  ['Drama', 'Musical', 'Romance']  ['Sanjay Leela Bhansali']   \n",
       "\n",
       "                                                Cast  \\\n",
       "0                                                 []   \n",
       "1  ['Chris Reilly', 'Ellora Torchia', 'Viola Pret...   \n",
       "2  ['Pankaj Tripathi', 'Swastika Mukherjee', 'Pur...   \n",
       "3  ['Mugen Rao', 'Divya Bharathi', 'Sakshi Agarwal']   \n",
       "4   ['Ranbir Kapoor', 'Sonam Kapoor', 'Salman Khan']   \n",
       "\n",
       "                                  Production Company Country     Language  \n",
       "0                                                 []     NaN  ['Bengali']  \n",
       "1  ['All3Media International', 'The Forge', 'Zwei...     NaN           []  \n",
       "2     ['Applause Entertainment Ltd.', 'BBC Studios']   India    ['Hindi']  \n",
       "3                                                 []     NaN    ['Tamil']  \n",
       "4               ['SPE Films', 'SLB Films Pvt. Ltd.']     NaN    ['Hindi']  "
      ]
     },
     "execution_count": 125,
     "metadata": {},
     "output_type": "execute_result"
    }
   ],
   "source": [
    "df.head(5)"
   ]
  },
  {
   "cell_type": "code",
   "execution_count": 126,
   "metadata": {},
   "outputs": [
    {
     "data": {
      "image/png": "[encoded data removed]",
      "text/plain": [
       "<Figure size 720x432 with 1 Axes>"
      ]
     },
     "metadata": {
      "needs_background": "light"
     },
     "output_type": "display_data"
    }
   ],
   "source": [
    "years2=[]\n",
    "for i in df['Release Date']:\n",
    "    if type(i)==str:\n",
    "        years2.append(int(i.split('(')[0].split()[-1]))        \n",
    "    else:\n",
    "        years2.append(np.nan)\n",
    "    \n",
    "yrs=list(set(years2))\n",
    "yrs.sort()\n",
    "yrs.remove(np.nan)\n",
    "yrs.remove(1922)\n",
    "avg_rating={'year':yrs, 'rating_sum':[], 'count':[],'rating':[]}\n",
    "for i in range(len(yrs)):\n",
    "    avg_rating['rating_sum'].append(0)\n",
    "    avg_rating['count'].append(0)\n",
    "    avg_rating['rating'].append(0)\n",
    "\n",
    "for ind in df.index:\n",
    "    if not np.isnan(df['IMDb Rating'][ind]) and type(df['Release Date'][ind])==str:\n",
    "        year=int(df['Release Date'][ind].split('(')[0].split()[-1])\n",
    "        if year in yrs:\n",
    "            avg_rating['rating_sum'][yrs.index(year)]+=df['IMDb Rating'][ind]\n",
    "            avg_rating['count'][yrs.index(year)]+=1\n",
    "        \n",
    "for i in range(len(yrs)):\n",
    "    if avg_rating['count'][i]!=0:\n",
    "        avg_rating['rating'][i]=avg_rating['rating_sum'][i]/avg_rating['count'][i]\n",
    "    else:\n",
    "        avg_rating['rating'][i]=np.nan\n",
    "\n",
    "plt.figure(figsize=(10, 6))\n",
    "plt.plot(yrs, avg_rating['rating'])\n",
    "plt.xticks(range(min(yrs)-4, max(yrs)+3, 4))\n",
    "plt.yticks(np.arange(6, 8.5, 0.1))\n",
    "plt.grid(True)"
   ]
  },
  {
   "cell_type": "code",
   "execution_count": 127,
   "metadata": {},
   "outputs": [
    {
     "data": {
      "text/plain": [
       "count                   7699\n",
       "unique                   241\n",
       "top       2 hours 30 minutes\n",
       "freq                     194\n",
       "Name: Runtime, dtype: object"
      ]
     },
     "execution_count": 127,
     "metadata": {},
     "output_type": "execute_result"
    }
   ],
   "source": [
    "df['Runtime'].describe()"
   ]
  },
  {
   "cell_type": "code",
   "execution_count": 128,
   "metadata": {},
   "outputs": [
    {
     "data": {
      "text/plain": [
       "0         12\n",
       "1          0\n",
       "2         45\n",
       "3          0\n",
       "4        142\n",
       "        ... \n",
       "9999     130\n",
       "10000     30\n",
       "10001    134\n",
       "10002    115\n",
       "10003      0\n",
       "Name: Runtime_min, Length: 10004, dtype: int64"
      ]
     },
     "execution_count": 128,
     "metadata": {},
     "output_type": "execute_result"
    }
   ],
   "source": [
    "\n",
    "def extract_minutes(runtime_str):\n",
    "    hours = 0\n",
    "    minutes = 0\n",
    "    \n",
    "    match = re.match(r'(\\d+)\\s*hours?', runtime_str)\n",
    "    if match:\n",
    "        hours = int(match.group(1))\n",
    "    \n",
    "    match = re.search(r'(\\d+)\\s*minutes?', runtime_str)\n",
    "    if match:\n",
    "        minutes = int(match.group(1))\n",
    "    \n",
    "    total_minutes = hours * 60 + minutes\n",
    "    return total_minutes\n",
    "\n",
    "df['Runtime_min']=df['Runtime'].astype(str).apply(extract_minutes)\n",
    "df['Runtime_min']"
   ]
  },
  {
   "cell_type": "code",
   "execution_count": 129,
   "metadata": {},
   "outputs": [
    {
     "data": {
      "text/plain": [
       "count    10004.000000\n",
       "mean        94.989904\n",
       "std         65.840733\n",
       "min          0.000000\n",
       "25%         20.000000\n",
       "50%        122.000000\n",
       "75%        145.000000\n",
       "max       1170.000000\n",
       "Name: Runtime_min, dtype: float64"
      ]
     },
     "execution_count": 129,
     "metadata": {},
     "output_type": "execute_result"
    }
   ],
   "source": [
    "df['Runtime_min'].describe()"
   ]
  },
  {
   "cell_type": "code",
   "execution_count": 130,
   "metadata": {
    "scrolled": false
   },
   "outputs": [
    {
     "data": {
      "image/png": "[encoded data removed]",
      "text/plain": [
       "<Figure size 720x432 with 1 Axes>"
      ]
     },
     "metadata": {
      "needs_background": "light"
     },
     "output_type": "display_data"
    }
   ],
   "source": [
    "plt.figure(figsize=(10, 6))\n",
    "sns.histplot(df['Runtime_min'])\n",
    "plt.title('Distribution of Movie Runtimes')\n",
    "plt.xlabel('Runtime (minutes)')\n",
    "plt.ylabel('Frequency')\n",
    "plt.show()"
   ]
  },
  {
   "cell_type": "code",
   "execution_count": 131,
   "metadata": {},
   "outputs": [
    {
     "name": "stdout",
     "output_type": "stream",
     "text": [
      "             Runtime_min  IMDb Rating\n",
      "Runtime_min     1.000000    -0.165312\n",
      "IMDb Rating    -0.165312     1.000000\n"
     ]
    }
   ],
   "source": [
    "corr = df[['Runtime_min', 'IMDb Rating']].corr()\n",
    "print(corr)"
   ]
  },
  {
   "cell_type": "code",
   "execution_count": 132,
   "metadata": {},
   "outputs": [
    {
     "name": "stdout",
     "output_type": "stream",
     "text": [
      "Number of outliers: 16\n"
     ]
    }
   ],
   "source": [
    "z_scores = stats.zscore(df['Runtime_min'])\n",
    "outliers = (z_scores > 3) | (z_scores < -3)\n",
    "print(\"Number of outliers:\", outliers.sum())"
   ]
  },
  {
   "cell_type": "code",
   "execution_count": 133,
   "metadata": {},
   "outputs": [
    {
     "data": {
      "image/png": "[encoded data removed]",
      "text/plain": [
       "<Figure size 864x576 with 1 Axes>"
      ]
     },
     "metadata": {
      "needs_background": "light"
     },
     "output_type": "display_data"
    }
   ],
   "source": [
    "\n",
    "def explode(df, lst_cols, fill_value='', preserve_index=False):\n",
    "    # make sure `lst_cols` is list-alike\n",
    "    if (lst_cols is not None\n",
    "        and len(lst_cols) > 0\n",
    "        and not isinstance(lst_cols, (list, tuple, np.ndarray, pd.Series))):\n",
    "        lst_cols = [lst_cols]\n",
    "    # all columns except `lst_cols`\n",
    "    idx_cols = df.columns.difference(lst_cols)\n",
    "    # calculate lengths of lists\n",
    "    lens = df[lst_cols[0]].str.len()\n",
    "    # preserve original index values    \n",
    "    idx = np.repeat(df.index.values, lens)\n",
    "    # create \"exploded\" DF\n",
    "    res = (pd.DataFrame({\n",
    "                col:np.repeat(df[col].values, lens)\n",
    "                for col in idx_cols},\n",
    "                index=idx)\n",
    "             .assign(**{col:np.concatenate(df.loc[lens>0, col].values)\n",
    "                            for col in lst_cols}))\n",
    "    # append those rows that have empty lists\n",
    "    if (lens == 0).any():\n",
    "        # at least one list in cells is empty\n",
    "        res = (res.append(df.loc[lens==0, idx_cols], sort=False)\n",
    "                  .fillna(fill_value))\n",
    "    # revert the original index order\n",
    "    res = res.sort_index()\n",
    "    # reset index if requested\n",
    "    if not preserve_index:        \n",
    "        res = res.reset_index(drop=True)\n",
    "    return res\n",
    "\n",
    "\n",
    "temp=pd.DataFrame({'Genre':df['Genre'],'Runtime_min':df['Runtime_min']})\n",
    "temp['Genre'] = temp['Genre'].apply(literal_eval) \n",
    "temp=explode(temp,['Genre'],fill_value='')\n",
    "\n",
    "plt.figure(figsize=(12, 8))\n",
    "sns.boxplot(x='Genre', y='Runtime_min', data=temp)\n",
    "plt.title('Runtime Distribution by Genre')\n",
    "plt.xlabel('Genre')\n",
    "plt.ylabel('Runtime (minutes)')\n",
    "plt.xticks(rotation=90)\n",
    "plt.show()\n"
   ]
  },
  {
   "cell_type": "code",
   "execution_count": null,
   "metadata": {},
   "outputs": [],
   "source": []
  }
 ],
 "metadata": {
  "kernelspec": {
   "display_name": "Python 3 (ipykernel)",
   "language": "python",
   "name": "python3"
  },
  "language_info": {
   "codemirror_mode": {
    "name": "ipython",
    "version": 3
   },
   "file_extension": ".py",
   "mimetype": "text/x-python",
   "name": "python",
   "nbconvert_exporter": "python",
   "pygments_lexer": "ipython3",
   "version": "3.9.7"
  }
 },
 "nbformat": 4,
 "nbformat_minor": 2
}
