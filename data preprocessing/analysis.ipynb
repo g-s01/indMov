{
 "cells": [
  {
   "cell_type": "markdown",
   "metadata": {},
   "source": [
    "# Imbd Dataset analysis\n"
   ]
  },
  {
   "cell_type": "code",
   "execution_count": 2,
   "metadata": {},
   "outputs": [],
   "source": [
    "import pandas as pd\n",
    "import numpy as np\n",
    "import matplotlib.pyplot as plt\n",
    "import seaborn as sns"
   ]
  },
  {
   "cell_type": "code",
   "execution_count": 36,
   "metadata": {},
   "outputs": [
    {
     "data": {
      "text/html": [
       "<div>\n",
       "<style scoped>\n",
       "    .dataframe tbody tr th:only-of-type {\n",
       "        vertical-align: middle;\n",
       "    }\n",
       "\n",
       "    .dataframe tbody tr th {\n",
       "        vertical-align: top;\n",
       "    }\n",
       "\n",
       "    .dataframe thead th {\n",
       "        text-align: right;\n",
       "    }\n",
       "</style>\n",
       "<table border=\"1\" class=\"dataframe\">\n",
       "  <thead>\n",
       "    <tr style=\"text-align: right;\">\n",
       "      <th></th>\n",
       "      <th>Movie Name</th>\n",
       "      <th>IMDb Rating</th>\n",
       "      <th>Popularity</th>\n",
       "      <th>Release Date</th>\n",
       "      <th>Box Office</th>\n",
       "      <th>Runtime</th>\n",
       "      <th>Genre</th>\n",
       "      <th>Director</th>\n",
       "      <th>Cast</th>\n",
       "      <th>Production Company</th>\n",
       "      <th>Country</th>\n",
       "      <th>Language</th>\n",
       "    </tr>\n",
       "  </thead>\n",
       "  <tbody>\n",
       "    <tr>\n",
       "      <th>0</th>\n",
       "      <td>The Kerala Story Bangla</td>\n",
       "      <td>6.5</td>\n",
       "      <td>NaN</td>\n",
       "      <td>NaN</td>\n",
       "      <td>NaN</td>\n",
       "      <td>12 minutes</td>\n",
       "      <td>['Short', 'Drama']</td>\n",
       "      <td>['Satyajit Das']</td>\n",
       "      <td>[]</td>\n",
       "      <td>[]</td>\n",
       "      <td>NaN</td>\n",
       "      <td>['Bengali']</td>\n",
       "    </tr>\n",
       "    <tr>\n",
       "      <th>1</th>\n",
       "      <td>Generation Z</td>\n",
       "      <td>NaN</td>\n",
       "      <td>NaN</td>\n",
       "      <td>NaN</td>\n",
       "      <td>NaN</td>\n",
       "      <td>NaN</td>\n",
       "      <td>['Horror', 'Comedy']</td>\n",
       "      <td>[]</td>\n",
       "      <td>['Chris Reilly', 'Ellora Torchia', 'Viola Pret...</td>\n",
       "      <td>['All3Media International', 'The Forge', 'Zwei...</td>\n",
       "      <td>NaN</td>\n",
       "      <td>[]</td>\n",
       "    </tr>\n",
       "    <tr>\n",
       "      <th>2</th>\n",
       "      <td>Criminal Justice: Adhura Sach</td>\n",
       "      <td>7.7</td>\n",
       "      <td>NaN</td>\n",
       "      <td>August 26, 2022 (India)</td>\n",
       "      <td>NaN</td>\n",
       "      <td>45 minutes</td>\n",
       "      <td>['Crime', 'Drama', 'Mystery']</td>\n",
       "      <td>[]</td>\n",
       "      <td>['Pankaj Tripathi', 'Swastika Mukherjee', 'Pur...</td>\n",
       "      <td>['Applause Entertainment Ltd.', 'BBC Studios']</td>\n",
       "      <td>India</td>\n",
       "      <td>['Hindi']</td>\n",
       "    </tr>\n",
       "    <tr>\n",
       "      <th>3</th>\n",
       "      <td>Madhil Mel Kaadhal</td>\n",
       "      <td>NaN</td>\n",
       "      <td>NaN</td>\n",
       "      <td>NaN</td>\n",
       "      <td>NaN</td>\n",
       "      <td>NaN</td>\n",
       "      <td>['Romance']</td>\n",
       "      <td>['Anjana Ali Khan']</td>\n",
       "      <td>['Mugen Rao', 'Divya Bharathi', 'Sakshi Agarwal']</td>\n",
       "      <td>[]</td>\n",
       "      <td>NaN</td>\n",
       "      <td>['Tamil']</td>\n",
       "    </tr>\n",
       "    <tr>\n",
       "      <th>4</th>\n",
       "      <td>Saawariya</td>\n",
       "      <td>5.2</td>\n",
       "      <td>NaN</td>\n",
       "      <td>November 9, 2007 (India)</td>\n",
       "      <td>$18,525,631</td>\n",
       "      <td>2 hours 22 minutes</td>\n",
       "      <td>['Drama', 'Musical', 'Romance']</td>\n",
       "      <td>['Sanjay Leela Bhansali']</td>\n",
       "      <td>['Ranbir Kapoor', 'Sonam Kapoor', 'Salman Khan']</td>\n",
       "      <td>['SPE Films', 'SLB Films Pvt. Ltd.']</td>\n",
       "      <td>NaN</td>\n",
       "      <td>['Hindi']</td>\n",
       "    </tr>\n",
       "  </tbody>\n",
       "</table>\n",
       "</div>"
      ],
      "text/plain": [
       "                      Movie Name  IMDb Rating Popularity  \\\n",
       "0        The Kerala Story Bangla          6.5        NaN   \n",
       "1                   Generation Z          NaN        NaN   \n",
       "2  Criminal Justice: Adhura Sach          7.7        NaN   \n",
       "3             Madhil Mel Kaadhal          NaN        NaN   \n",
       "4                      Saawariya          5.2        NaN   \n",
       "\n",
       "               Release Date   Box Office             Runtime  \\\n",
       "0                       NaN          NaN          12 minutes   \n",
       "1                       NaN          NaN                 NaN   \n",
       "2   August 26, 2022 (India)          NaN          45 minutes   \n",
       "3                       NaN          NaN                 NaN   \n",
       "4  November 9, 2007 (India)  $18,525,631  2 hours 22 minutes   \n",
       "\n",
       "                             Genre                   Director  \\\n",
       "0               ['Short', 'Drama']           ['Satyajit Das']   \n",
       "1             ['Horror', 'Comedy']                         []   \n",
       "2    ['Crime', 'Drama', 'Mystery']                         []   \n",
       "3                      ['Romance']        ['Anjana Ali Khan']   \n",
       "4  ['Drama', 'Musical', 'Romance']  ['Sanjay Leela Bhansali']   \n",
       "\n",
       "                                                Cast  \\\n",
       "0                                                 []   \n",
       "1  ['Chris Reilly', 'Ellora Torchia', 'Viola Pret...   \n",
       "2  ['Pankaj Tripathi', 'Swastika Mukherjee', 'Pur...   \n",
       "3  ['Mugen Rao', 'Divya Bharathi', 'Sakshi Agarwal']   \n",
       "4   ['Ranbir Kapoor', 'Sonam Kapoor', 'Salman Khan']   \n",
       "\n",
       "                                  Production Company Country     Language  \n",
       "0                                                 []     NaN  ['Bengali']  \n",
       "1  ['All3Media International', 'The Forge', 'Zwei...     NaN           []  \n",
       "2     ['Applause Entertainment Ltd.', 'BBC Studios']   India    ['Hindi']  \n",
       "3                                                 []     NaN    ['Tamil']  \n",
       "4               ['SPE Films', 'SLB Films Pvt. Ltd.']     NaN    ['Hindi']  "
      ]
     },
     "execution_count": 36,
     "metadata": {},
     "output_type": "execute_result"
    }
   ],
   "source": [
    "df = pd.read_csv('../data/data.csv')\n",
    "df.head(5)"
   ]
  },
  {
   "cell_type": "code",
   "execution_count": 4,
   "metadata": {},
   "outputs": [
    {
     "name": "stdout",
     "output_type": "stream",
     "text": [
      "Number of rows and columns in the data set:  (10004, 12)\n"
     ]
    }
   ],
   "source": [
    "print(\"Number of rows and columns in the data set: \", df.shape)"
   ]
  },
  {
   "cell_type": "code",
   "execution_count": 5,
   "metadata": {},
   "outputs": [
    {
     "name": "stdout",
     "output_type": "stream",
     "text": [
      "Type of Movie Name is object\n",
      "Type of IMDb Rating is float64\n",
      "Type of Popularity is object\n",
      "Type of Release Date is object\n",
      "Type of Box Office is object\n",
      "Type of Runtime is object\n",
      "Type of Genre is object\n",
      "Type of Director is object\n",
      "Type of Cast is object\n",
      "Type of Production Company is object\n",
      "Type of Country is object\n",
      "Type of Language is object\n"
     ]
    }
   ],
   "source": [
    "for col in df.columns:\n",
    "    print(f'Type of {col} is {df[col].dtype}')"
   ]
  },
  {
   "cell_type": "code",
   "execution_count": 6,
   "metadata": {},
   "outputs": [
    {
     "name": "stdout",
     "output_type": "stream",
     "text": [
      "NaN values in Movie Name is 84 (0.84%)\n",
      "NaN values in IMDb Rating is 1333 (13.32%)\n",
      "NaN values in Popularity is 9817 (98.13%)\n",
      "NaN values in Release Date is 3755 (37.53%)\n",
      "NaN values in Box Office is 7434 (74.31%)\n",
      "NaN values in Runtime is 2305 (23.04%)\n",
      "Empty values in Genre is 337 (3.37%)\n",
      "Empty values in Director is 2287 (22.86%)\n",
      "Empty values in Cast is 818 (8.18%)\n",
      "Empty values in Production Company is 6581 (65.78%)\n",
      "NaN values in Country is 4006 (40.04%)\n",
      "Empty values in Language is 284 (2.84%)\n"
     ]
    }
   ],
   "source": [
    "for col in df.columns:\n",
    "    if(col in ['Genre', 'Director', 'Cast', 'Production Company', 'Language']):\n",
    "        print(f\"Empty values in {col} is {df[col].apply(lambda x: x=='[]').sum()} ({df[col].apply(lambda x: x=='[]').sum()/df.shape[0]*100:.2f}%)\")\n",
    "    else: \n",
    "        print(f'NaN values in {col} is {df[col].isna().sum()} ({df[col].isna().sum()/df.shape[0]*100:.2f}%)')"
   ]
  },
  {
   "cell_type": "markdown",
   "metadata": {},
   "source": [
    "## Analyzing the IMDb Rating Column"
   ]
  },
  {
   "cell_type": "code",
   "execution_count": 14,
   "metadata": {},
   "outputs": [
    {
     "name": "stderr",
     "output_type": "stream",
     "text": [
      "/Users/adittyagupta/opt/anaconda3/lib/python3.9/site-packages/seaborn/_decorators.py:36: FutureWarning: Pass the following variable as a keyword arg: x. From version 0.12, the only valid positional argument will be `data`, and passing other arguments without an explicit keyword will result in an error or misinterpretation.\n",
      "  warnings.warn(\n"
     ]
    },
    {
     "data": {
      "image/png": "[encoded data removed]",
      "text/plain": [
       "<Figure size 720x432 with 1 Axes>"
      ]
     },
     "metadata": {
      "needs_background": "light"
     },
     "output_type": "display_data"
    }
   ],
   "source": [
    "# Plot a count plot for the 'Rating' column\n",
    "plt.figure(figsize=(10, 6))\n",
    "sns.countplot(df['IMDb Rating'])\n",
    "plt.title('Count plot for Rating')\n",
    "plt.show()\n"
   ]
  },
  {
   "cell_type": "markdown",
   "metadata": {},
   "source": [
    "### Looking at dependecy of IMDb Rating on other columns"
   ]
  },
  {
   "cell_type": "code",
   "execution_count": 37,
   "metadata": {},
   "outputs": [
    {
     "name": "stderr",
     "output_type": "stream",
     "text": [
      "/var/folders/5s/zldrbqj16q3dpgsj9srt4f2c0000gn/T/ipykernel_12906/2693158907.py:2: SettingWithCopyWarning: \n",
      "A value is trying to be set on a copy of a slice from a DataFrame.\n",
      "Try using .loc[row_indexer,col_indexer] = value instead\n",
      "\n",
      "See the caveats in the documentation: https://pandas.pydata.org/pandas-docs/stable/user_guide/indexing.html#returning-a-view-versus-a-copy\n",
      "  mydf['Box Office'] = mydf['Box Office'].apply(lambda x: x.replace('$', '').replace(',', '').replace('₹', '')).astype(int)\n",
      "/var/folders/5s/zldrbqj16q3dpgsj9srt4f2c0000gn/T/ipykernel_12906/2693158907.py:3: SettingWithCopyWarning: \n",
      "A value is trying to be set on a copy of a slice from a DataFrame.\n",
      "Try using .loc[row_indexer,col_indexer] = value instead\n",
      "\n",
      "See the caveats in the documentation: https://pandas.pydata.org/pandas-docs/stable/user_guide/indexing.html#returning-a-view-versus-a-copy\n",
      "  mydf['Box Office'] = mydf['Box Office'].apply(lambda x: x/1000000)\n"
     ]
    }
   ],
   "source": [
    "mydf = df[df['Box Office'].isna() == False]\n",
    "mydf['Box Office'] = mydf['Box Office'].apply(lambda x: x.replace('$', '').replace(',', '').replace('₹', '')).astype(int)\n",
    "mydf['Box Office'] = mydf['Box Office'].apply(lambda x: x/1000000)"
   ]
  },
  {
   "cell_type": "code",
   "execution_count": 41,
   "metadata": {},
   "outputs": [
    {
     "name": "stdout",
     "output_type": "stream",
     "text": [
      "             Box Office  IMDb Rating\n",
      "Box Office     1.000000    -0.051241\n",
      "IMDb Rating   -0.051241     1.000000\n"
     ]
    }
   ],
   "source": [
    "#Check for correlation between Box Office and IMDb Rating\n",
    "print(mydf[['Box Office', 'IMDb Rating']].corr())\n",
    "#Very low correlation"
   ]
  },
  {
   "cell_type": "markdown",
   "metadata": {},
   "source": [
    "### Analysis of the Release Date Column"
   ]
  },
  {
   "cell_type": "code",
   "execution_count": 47,
   "metadata": {},
   "outputs": [
    {
     "name": "stdout",
     "output_type": "stream",
     "text": [
      "2     August 26, 2022 (India)\n",
      "4    November 9, 2007 (India)\n",
      "5    February 9, 2024 (India)\n",
      "6        July 8, 1983 (India)\n",
      "7     October 8, 2004 (India)\n",
      "Name: Release Date, dtype: object\n"
     ]
    }
   ],
   "source": [
    "mydf = df[df['Release Date'].isna() == False]\n",
    "print(mydf['Release Date'].head(5))"
   ]
  },
  {
   "cell_type": "code",
   "execution_count": 46,
   "metadata": {},
   "outputs": [
    {
     "name": "stdout",
     "output_type": "stream",
     "text": [
      "['India' 'Australia' 'South Africa' 'United States' 'Germany' 'Kuwait'\n",
      " 'Canada' 'Sweden' 'Italy' 'Brazil' 'United Arab Emirates' 'Singapore'\n",
      " 'Netherlands' 'United Kingdom' 'Denmark' 'Thailand' 'Kazakhstan'\n",
      " 'Ireland' 'France' 'Ukraine' 'Greece' 'China' 'Vietnam' 'Norway'\n",
      " 'Pakistan' 'Belgium' 'Russia' 'Philippines' 'Portugal' 'Israel'\n",
      " 'Switzerland' 'South Korea' 'Poland' 'Bahamas' 'Spain' 'Serbia' 'Mexico'\n",
      " 'Georgia' 'Egypt' 'Turkey' 'Malaysia' 'Argentina' 'Indonesia']\n"
     ]
    }
   ],
   "source": [
    "#Checking for all the countries release date we have\n",
    "print(mydf['Release Date'].apply(lambda x: x.split('(')[1].split(')')[0]).unique())"
   ]
  },
  {
   "cell_type": "code",
   "execution_count": 61,
   "metadata": {},
   "outputs": [
    {
     "name": "stdout",
     "output_type": "stream",
     "text": [
      "2         2022 \n",
      "4         2007 \n",
      "5         2024 \n",
      "6         1983 \n",
      "7         2004 \n",
      "          ...  \n",
      "9996      2023 \n",
      "9998      2020 \n",
      "10000     2007 \n",
      "10001     2015 \n",
      "10002     2003 \n",
      "Name: Release Date, Length: 6249, dtype: object\n"
     ]
    }
   ],
   "source": [
    "years = mydf['Release Date'].apply(lambda x: x.split('(')[0]).apply(lambda x: x.split()[-1] if len(x.split(','))==1 else x.split(',')[1])\n",
    "print(years)"
   ]
  },
  {
   "cell_type": "code",
   "execution_count": 62,
   "metadata": {},
   "outputs": [
    {
     "name": "stderr",
     "output_type": "stream",
     "text": [
      "/Users/adittyagupta/opt/anaconda3/lib/python3.9/site-packages/seaborn/_decorators.py:36: FutureWarning: Pass the following variable as a keyword arg: x. From version 0.12, the only valid positional argument will be `data`, and passing other arguments without an explicit keyword will result in an error or misinterpretation.\n",
      "  warnings.warn(\n"
     ]
    },
    {
     "data": {
      "image/png": "[encoded data removed]",
      "text/plain": [
       "<Figure size 2880x720 with 1 Axes>"
      ]
     },
     "metadata": {
      "needs_background": "light"
     },
     "output_type": "display_data"
    }
   ],
   "source": [
    "years  = years.apply(lambda x: int(x))\n",
    "years = years[years > 1980]\n",
    "plt.figure(figsize=(40, 20))\n",
    "sns.countplot(years)\n",
    "plt.title('Count plot for years')\n",
    "plt.show()"
   ]
  },
  {
   "cell_type": "code",
   "execution_count": null,
   "metadata": {},
   "outputs": [],
   "source": []
  }
 ],
 "metadata": {
  "kernelspec": {
   "display_name": "base",
   "language": "python",
   "name": "python3"
  },
  "language_info": {
   "codemirror_mode": {
    "name": "ipython",
    "version": 3
   },
   "file_extension": ".py",
   "mimetype": "text/x-python",
   "name": "python",
   "nbconvert_exporter": "python",
   "pygments_lexer": "ipython3",
   "version": "3.9.7"
  }
 },
 "nbformat": 4,
 "nbformat_minor": 2
}
